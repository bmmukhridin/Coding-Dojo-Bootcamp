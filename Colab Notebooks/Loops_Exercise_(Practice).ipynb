{
  "nbformat": 4,
  "nbformat_minor": 0,
  "metadata": {
    "colab": {
      "provenance": [],
      "toc_visible": true,
      "include_colab_link": true
    },
    "kernelspec": {
      "name": "python3",
      "display_name": "Python 3"
    },
    "language_info": {
      "name": "python"
    }
  },
  "cells": [
    {
      "cell_type": "markdown",
      "metadata": {
        "id": "view-in-github",
        "colab_type": "text"
      },
      "source": [
        "<a href=\"https://colab.research.google.com/github/bmmukhridin/Coding-Dojo-Bootcamp/blob/main/Loops_Exercise_(Practice).ipynb\" target=\"_parent\"><img src=\"https://colab.research.google.com/assets/colab-badge.svg\" alt=\"Open In Colab\"/></a>"
      ]
    },
    {
      "cell_type": "markdown",
      "source": [
        "# Loops Exercise - Practice \n"
      ],
      "metadata": {
        "id": "GoCvWTFUOpms"
      }
    },
    {
      "cell_type": "markdown",
      "source": [
        "In this notebook you will see examples of looping through lists, dictionaries, and nested dictionaries.  "
      ],
      "metadata": {
        "id": "rMrbNHBiOvyV"
      }
    },
    {
      "cell_type": "markdown",
      "source": [
        "# Loops"
      ],
      "metadata": {
        "id": "KkbBxivOO5BO"
      }
    },
    {
      "cell_type": "markdown",
      "source": [
        "## Continuing with Coworkers Favorites"
      ],
      "metadata": {
        "id": "EBihK_uwPah7"
      }
    },
    {
      "cell_type": "markdown",
      "source": [
        "This task continues the activity from the Indexing and Slicing - Dictionaries practice assignment. As a reminder, a group of co-workers realized that they don't know each other very well beyond the day to day tasks of their jobs.\n",
        "\n",
        "To help build team comraderie, they decided to share their favorite colors and candy with everyone.  We used a nested dictionary with everyone's names as the keys and their favorite items as the values.\n",
        "\n",
        "\n",
        "Run the cell below to create the dictionary of favorite items from the end of the Indexing and Slicing - Dictionaries practice assignment."
      ],
      "metadata": {
        "id": "IvrdmA5RQLwh"
      }
    },
    {
      "cell_type": "code",
      "execution_count": null,
      "metadata": {
        "id": "_v_UC8hbOWnD"
      },
      "outputs": [],
      "source": [
        "## Run this cell without making changes.\n",
        "\n",
        "fav_things = {'James': {'color': 'Purple', 'candy': 'Jelly Bellies'},\n",
        "             'Purvi': {'color': 'Green', 'candy': 'Dark Chocolate'},\n",
        "             'Sherlin': {'color': 'Purple', 'candy': \"Peanut M&M's\"},\n",
        "             'Josh': {'color': 'Indigo', 'candy': 'Chocolate Covered Potato Chips'},\n",
        "             'Neerja': {'color': 'Green', 'candy': 'Dark Chocolate'},\n",
        "             'Brenda': {'color': 'Blue', 'candy': \"Reese's Cups\"}}\n",
        "\n",
        "# Saving list of names\n",
        "names_list = list(fav_things.keys())\n",
        "names_list"
      ]
    },
    {
      "cell_type": "markdown",
      "source": [
        "Now that we have our dictionary with everyone's names as the keys and their favorite items as a nested dictionary, we want to share this information with a well-formatted print statement. \n",
        "\n",
        "The group has decided that to print a greeting and  favorite items for each team member using full sentences. \n",
        "\n",
        "Let's construct our greeting message first\n",
        "\n"
      ],
      "metadata": {
        "id": "8eFfJKk5SrcL"
      }
    },
    {
      "cell_type": "markdown",
      "source": [
        "# Looping Through Lists"
      ],
      "metadata": {
        "id": "3mIBgP60SaFC"
      }
    },
    {
      "cell_type": "markdown",
      "source": [
        "The first print statement we will need is a simple greeting. \n",
        "\n",
        "For each person in our `sorted_names`, print: \"Hello everyone! My name is `[their name]`.\"  Where `[their name]` should be replaced with the variable that contains their name. \n",
        "\n",
        "Tip: we will need to use F-strings to insert a variable into a string. Review the section on F-strings from the \"Declaring Variables\" lesson\n",
        "\n"
      ],
      "metadata": {
        "id": "akrWekRvU31-"
      }
    },
    {
      "cell_type": "markdown",
      "source": [
        "## Testing Our Loop with 1 Example"
      ],
      "metadata": {
        "id": "Jmn8qicCd0vk"
      }
    },
    {
      "cell_type": "markdown",
      "source": [
        "\n",
        "Before we construct our full loop, let's slice out 1 name from the list of sorted names and write our print statement using this 1 name."
      ],
      "metadata": {
        "id": "Oa-dPG3pdz7-"
      }
    },
    {
      "cell_type": "code",
      "source": [
        "# Run this cell without changes\n",
        "\n",
        "# saving the first name from the list \n",
        "name = names_list[0]\n",
        "print(f\"Hello, everyone! My name is {name}.\")"
      ],
      "metadata": {
        "id": "b-hBBJafTV5b"
      },
      "execution_count": null,
      "outputs": []
    },
    {
      "cell_type": "markdown",
      "source": [
        "Now that we have our code working for our single test name, let's convert this into a for loop.\n"
      ],
      "metadata": {
        "id": "ngQXgaLad-Wb"
      }
    },
    {
      "cell_type": "markdown",
      "source": [
        "## Constructing Our Loops from Our Test Case"
      ],
      "metadata": {
        "id": "0REGx4gpfR3Z"
      }
    },
    {
      "cell_type": "markdown",
      "source": [
        "\n",
        "Now, we want to loop through all of the names in sorted_names. We need to use start our loop with a `for` statement in which we assign a variable to a single item from our container (our sorted_names). \n",
        "\n",
        "If we use the same variable name in our for statement that we used as the variable name for our single test case, then we can use our test print statement as-is, just inside of our loop!"
      ],
      "metadata": {
        "id": "OuYpevHHfRGm"
      }
    },
    {
      "cell_type": "markdown",
      "source": [
        "### 💪 Your Turn"
      ],
      "metadata": {
        "id": "pT_Yk3g49y1B"
      }
    },
    {
      "cell_type": "markdown",
      "source": [
        "- Turn the test code for print 1 greeting above into a for loop through the entire name_list."
      ],
      "metadata": {
        "id": "JLpT-taV91UR"
      }
    },
    {
      "cell_type": "code",
      "source": [
        "# for each_item in this collection_of_items\n",
        "\n",
        "  # print our statement\n"
      ],
      "metadata": {
        "id": "eSLwK-XKWFns"
      },
      "execution_count": null,
      "outputs": []
    },
    {
      "cell_type": "markdown",
      "source": [
        "Your output should look similar to this:\n",
        "```\n",
        "Hello, everyone! My name is Brenda.\n",
        "Hello, everyone! My name is James.\n",
        "Hello, everyone! My name is Josh.\n",
        "Hello, everyone! My name is Neerja.\n",
        "Hello, everyone! My name is Purvi.\n",
        "Hello, everyone! My name is Sherlin.\n",
        "```"
      ],
      "metadata": {
        "id": "aQCsdKlWgJdt"
      }
    },
    {
      "cell_type": "markdown",
      "source": [
        "We ultimately want to add additional print statements to report their person's favorite candy and color. \n",
        "\n",
        "Let's first reproduce the our greeting from above, but using our `fav_things` dictionary. \n",
        "\n"
      ],
      "metadata": {
        "id": "d3pJWCISwT9_"
      }
    },
    {
      "cell_type": "markdown",
      "source": [
        "# Looping Through Dictionaries"
      ],
      "metadata": {
        "id": "-loLvEyLfktE"
      }
    },
    {
      "cell_type": "markdown",
      "source": [
        "## Looping Through Keys"
      ],
      "metadata": {
        "id": "Kei5LLYuyhmn"
      }
    },
    {
      "cell_type": "markdown",
      "source": [
        "\n",
        "If we loop through a dictionary, Python will use just the keys by default. "
      ],
      "metadata": {
        "id": "z7UAou8sBGEy"
      }
    },
    {
      "cell_type": "markdown",
      "source": [
        "#### 💪 Your Turn\n"
      ],
      "metadata": {
        "id": "xT7KH0zxAOL9"
      }
    },
    {
      "cell_type": "markdown",
      "source": [
        "\n",
        "Copy your for loop through the names_list above and paste it into the cell below. Replace the `names_list` with the `fav_things` dictionary and confirm you get the same output as your prior loop."
      ],
      "metadata": {
        "id": "16soHO_kAeio"
      }
    },
    {
      "cell_type": "code",
      "source": [
        "## Run this cell without changes\n",
        "\n",
        "# for key in my_dictionary\n",
        "for name in fav_things:\n",
        "\n",
        "  # print our statement\n",
        "  print(f\"Hello, everyone! My name is {name}.\")"
      ],
      "metadata": {
        "id": "PJnru5lBwTBH"
      },
      "execution_count": null,
      "outputs": []
    },
    {
      "cell_type": "markdown",
      "source": [
        "\n",
        "\n",
        "Note: we could also loop through the dictionaries' `.keys()` to get the same result. \n",
        "Both examples below produce the same output."
      ],
      "metadata": {
        "id": "Agv2zgHDyHf2"
      }
    },
    {
      "cell_type": "code",
      "source": [
        "## Run this cell without changes\n",
        "\n",
        "# for key in my_dictionary.keys()\n",
        "for name in fav_things.keys():\n",
        "\n",
        "  # print our statement\n",
        "  print(f\"Hello, everyone! My name is {name}.\")"
      ],
      "metadata": {
        "id": "BYyC9bXSyQ8d"
      },
      "execution_count": null,
      "outputs": []
    },
    {
      "cell_type": "markdown",
      "source": [
        "## Looping through Keys (and the Corresponding Values)"
      ],
      "metadata": {
        "id": "bLsN0dH3yq_F"
      }
    },
    {
      "cell_type": "markdown",
      "source": [
        "Once we have our key (the name), we can use that key to slice out the corresponding value. \n",
        "Reminder: in this case, our values are a nested dictionary with 2 keys: \"color\" & \"candy\".\n",
        "\n",
        "Let's slice out an example to remind ourselves that we are working with.\n"
      ],
      "metadata": {
        "id": "I5X58T5gyt9t"
      }
    },
    {
      "cell_type": "code",
      "source": [
        "# Run this cell without changes\n",
        "\n",
        "# using \"Josh\" as our test key\n",
        "name = \"Josh\"\n",
        "\n",
        "# Slicing out their favorite items\n",
        "their_favs = fav_things[name]\n",
        "their_favs"
      ],
      "metadata": {
        "id": "f7S8E7mCzkX-"
      },
      "execution_count": null,
      "outputs": []
    },
    {
      "cell_type": "markdown",
      "source": [
        "### Testing Printing Favorite Items"
      ],
      "metadata": {
        "id": "ARnxNSyKz0Ae"
      }
    },
    {
      "cell_type": "markdown",
      "source": [
        "Now that we have our test variables, let's construct our print statements to print the current person's favorite candy and color. \n",
        "\n",
        "\n",
        "We still want to start with a greeting. \n",
        "We then want to print what their favorite color is (e.g. \"My favorite color is [fav color].\") followed by their favorite candy (e.g. \"My favorite candy is [fav candy].\") . \n"
      ],
      "metadata": {
        "id": "-lIG_j81z_hF"
      }
    },
    {
      "cell_type": "markdown",
      "source": [
        "### 💪 Your Turn"
      ],
      "metadata": {
        "id": "rTKbfWsd-H2a"
      }
    },
    {
      "cell_type": "markdown",
      "source": [
        "Print the 3 statements detailed above: the greeting with their name, their favorite color, and their favorite candy.\n",
        "\n",
        "Remember, the `their_favs` varaible we created above has a key for \"color\" and a key for \"candy\"\n",
        "\n"
      ],
      "metadata": {
        "id": "uVH2CT2D-L9I"
      }
    },
    {
      "cell_type": "code",
      "source": [
        "# Print the greeting message, again.\n",
        "\n",
        "\n",
        "# Print the favorite color\n",
        "\n",
        "# Print the favorite candy\n"
      ],
      "metadata": {
        "id": "rqR4S9SD0eFQ"
      },
      "execution_count": null,
      "outputs": []
    },
    {
      "cell_type": "markdown",
      "source": [
        "\n",
        "Your final output should look like this:\n",
        "\n",
        "```\n",
        "Hello, everyone! My name is Josh.\n",
        "My favorite color is Inidgo.\n",
        "My favorite candy is Chocolate Covered Potato Chips.\n",
        "```\n"
      ],
      "metadata": {
        "id": "GPMhnFts3DP8"
      }
    },
    {
      "cell_type": "markdown",
      "source": [
        "## Constructing Our Loop from Our Test Case"
      ],
      "metadata": {
        "id": "LYzxUiWl3MUK"
      }
    },
    {
      "cell_type": "markdown",
      "source": [
        "Now that we've successfully constructed the first person's print statements, let's turn this into a loop just like we did before. \n",
        "\n"
      ],
      "metadata": {
        "id": "a2B7gQ6C3rhK"
      }
    },
    {
      "cell_type": "markdown",
      "source": [
        "### 💪 Your Turn"
      ],
      "metadata": {
        "id": "h1TNR_qq-iZy"
      }
    },
    {
      "cell_type": "markdown",
      "source": [
        "- Convert your test code from the previous example above into a for loop through the entire `fav_things` dictionary. \n",
        "\n",
        "\n",
        ">Tip: now that we are printing multiple lines in each iteration of our loop, it is a good idea to print some empty lines between each iteration of the loop. (As the last line of code inside our loop). To do so, we can use an empty print statement or we can print one or more new line characters `print('\\n')`."
      ],
      "metadata": {
        "id": "fmlRdzdy-hkY"
      }
    },
    {
      "cell_type": "code",
      "source": [
        "## Loop through fav_things and print each person's greeting and favorites.\n",
        "\n",
        "# for key in my_dictionary\n",
        "\n",
        "\n",
        "  # slice corresponding value\n",
        "\n",
        "\n",
        "  # Print the greeting message.\n",
        "\n",
        "\n",
        "  # Print the favorite color\n",
        "\n",
        "\n",
        "  # Print the favorite candy\n",
        "\n",
        "\n",
        "  ## Print an empty line for readability.\n"
      ],
      "metadata": {
        "id": "fDv7ZgVzzgfj"
      },
      "execution_count": null,
      "outputs": []
    },
    {
      "cell_type": "markdown",
      "source": [
        "Your output should look like the following, but it should include every key.\n",
        "\n",
        "```\n",
        "Hello, everyone! My name is James.\n",
        "My favorite color is Purple.\n",
        "My favorite candy is Jelly Bellies.\n",
        "\n",
        "\n",
        "Hello, everyone! My name is Purvi.\n",
        "My favorite color is Green.\n",
        "My favorite candy is Dark Chocolate.\n",
        "\n",
        "\n",
        "Hello, everyone! My name is Sherlin.\n",
        "My favorite color is Purple.\n",
        "My favorite candy is Peanut M&M's.\n",
        "\n",
        "... [You should have several more print statements]\n",
        "\n",
        "```"
      ],
      "metadata": {
        "id": "BHZtS58a7o8x"
      }
    },
    {
      "cell_type": "markdown",
      "source": [
        "If you were able to get the print statement for every name in our dictionary, excellent work! "
      ],
      "metadata": {
        "id": "XGyfGQM1_pzV"
      }
    },
    {
      "cell_type": "markdown",
      "source": [
        "## Pro Tips: Looping Through Dictionaries"
      ],
      "metadata": {
        "id": "xvvtdvTc5P1n"
      }
    },
    {
      "cell_type": "markdown",
      "source": [
        "Below are some additional tips on getting the most out of loops with dictionaries."
      ],
      "metadata": {
        "id": "q_ME-oEd_555"
      }
    },
    {
      "cell_type": "markdown",
      "source": [
        "### Looping through a dictionary's `.items()`"
      ],
      "metadata": {
        "id": "00lEmsiQ4iJV"
      }
    },
    {
      "cell_type": "markdown",
      "source": [
        "Instead of looping through our keys and then using the key to slice out the correct value from our dictionary, we can actually get BOTH the key AND its value if we loop through a dictionary's `.items()`.\n",
        "\n",
        "When we use .items(), we need to provide 2 variable names in our `for` loop, the first will be the key and the second will be the value.\n",
        "\n",
        "e.g. `for key, value in dictionary.items():`"
      ],
      "metadata": {
        "id": "LoEd13N64qux"
      }
    },
    {
      "cell_type": "code",
      "source": [
        "## Run this cell without changes\n",
        "\n",
        "\n",
        "# for key in my_dictionary\n",
        "for name, their_favs in fav_things.items():\n",
        "\n",
        "  ## this line is no longer needed.\n",
        "  # their_favs = fav_things[name]\n",
        "\n",
        "  # Print the greeting message.\n",
        "  print(f\"Hello, everyone! My name is {name}.\")\n",
        "\n",
        "  # Print the favorite color\n",
        "  print(f\"My favorite color is {their_favs['color']}.\")\n",
        "\n",
        "  # Print the favorite candy\n",
        "  print(f\"My favorite candy is {their_favs['candy']}.\")\n",
        "\n",
        "  ## Print an empty line for readability.\n",
        "  print(\"\\n\")\n"
      ],
      "metadata": {
        "id": "oYvCqklo5IhW"
      },
      "execution_count": null,
      "outputs": []
    },
    {
      "cell_type": "markdown",
      "source": [
        "### Using Nested Loops"
      ],
      "metadata": {
        "id": "RjqCMPhl7_UG"
      }
    },
    {
      "cell_type": "markdown",
      "source": [
        "Taking this one step further, our nested dictionary is named with the category of favorite item as the key (e.g. 'candy') and the specific item as the value. \n",
        "\n",
        "We could ALSO loop through this inner dictionary to print the same message, but we will grab the keys and values for the inner favorite dictionaries in a loop, too! "
      ],
      "metadata": {
        "id": "dx-XeFll7AOa"
      }
    },
    {
      "cell_type": "code",
      "source": [
        "## Run this cell without changes\n",
        "\n",
        "# for key in my_dictionary\n",
        "for name, their_favs in fav_things.items():\n",
        "\n",
        "  ## this line is no longer needed.\n",
        "  # their_favs = fav_things[name]\n",
        "\n",
        "  # Print the greeting message.\n",
        "  print(f\"Hello, everyone! My name is {name}.\")\n",
        "\n",
        "  for category, item in their_favs.items():\n",
        "    # Print the favorite color\n",
        "    print(f\"My favorite {category} is {item}.\")\n",
        "\n",
        "\n",
        "  ## Print an empty line for readability.\n",
        "  print(\"\\n\")\n"
      ],
      "metadata": {
        "id": "detW0x-17T4d"
      },
      "execution_count": null,
      "outputs": []
    },
    {
      "cell_type": "markdown",
      "source": [
        "The benfit of this nested loop approach is that each team member could list any type of favorite items they want and the loop can still handle the new keys/values. Let's add some additional favorites to our fav_items dictionary and then re-run the same nested for loop."
      ],
      "metadata": {
        "id": "sMcv64Cf7TTF"
      }
    },
    {
      "cell_type": "code",
      "source": [
        "# Run this cell without changes\n",
        "\n",
        "## adding new fav items\n",
        "fav_things['James']['TV show'] = 'Buffy the Vampire Slayer'\n",
        "fav_things['Josh']['stack'] = 'Stack 3: Advanced ML'\n",
        "fav_things['Brenda']['season'] = 'Fall'"
      ],
      "metadata": {
        "id": "2EyS5Hnd8b6s"
      },
      "execution_count": null,
      "outputs": []
    },
    {
      "cell_type": "markdown",
      "source": [
        "We've now added new keys to our inner dictionaries that we did not plan for when constructing our loop. \n",
        "\n",
        "But it doesn't mattter: our inner loop will handle this for us!"
      ],
      "metadata": {
        "id": "7NwoJ2yR9CxF"
      }
    },
    {
      "cell_type": "code",
      "source": [
        "## Run this cell without changes \n",
        "# THIS IS THE SAME EXACT CODE AS PRIOR LOOP\n",
        "\n",
        "# for key in my_dictionary\n",
        "for name, their_favs in fav_things.items():\n",
        "\n",
        "  ## this line is no longer needed.\n",
        "  # their_favs = fav_things[name]\n",
        "\n",
        "  # Print the greeting message.\n",
        "  print(f\"Hello, everyone! My name is {name}.\")\n",
        "\n",
        "  for category, item in their_favs.items():\n",
        "    # Print the favorite color\n",
        "    print(f\"My favorite {category} is {item}.\")\n",
        "\n",
        "\n",
        "  ## Print an empty line for readability.\n",
        "  print(\"\\n\")\n"
      ],
      "metadata": {
        "id": "iwYFhxWh8jhQ"
      },
      "execution_count": null,
      "outputs": []
    },
    {
      "cell_type": "markdown",
      "source": [
        "## Summary"
      ],
      "metadata": {
        "id": "XiASp0ck-7lY"
      }
    },
    {
      "cell_type": "markdown",
      "source": [
        "In this assignment you practiced working with for loops. We reviewed how to construct a test case for a single item first. We then reviewed how to turn that example into a loop through an iterable. You practiced looping through lists, and dictionaries. \n",
        "\n",
        "You also learned how to loop through both the keys and values at the same time be loooping through the dictionary's `.items()`."
      ],
      "metadata": {
        "id": "YqZuasYN-8Sp"
      }
    }
  ]
}