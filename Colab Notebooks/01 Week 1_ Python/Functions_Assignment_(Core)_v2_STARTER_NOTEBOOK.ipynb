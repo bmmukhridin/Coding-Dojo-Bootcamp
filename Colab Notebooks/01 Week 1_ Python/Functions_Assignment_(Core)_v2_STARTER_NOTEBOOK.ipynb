{
  "nbformat": 4,
  "nbformat_minor": 0,
  "metadata": {
    "colab": {
      "provenance": [],
      "include_colab_link": true
    },
    "kernelspec": {
      "name": "python3",
      "display_name": "Python 3"
    },
    "language_info": {
      "name": "python"
    }
  },
  "cells": [
    {
      "cell_type": "markdown",
      "metadata": {
        "id": "view-in-github",
        "colab_type": "text"
      },
      "source": [
        "<a href=\"https://colab.research.google.com/github/bmmukhridin/Coding-Dojo-Bootcamp/blob/main/Functions_Assignment_(Core)_v2_STARTER_NOTEBOOK.ipynb\" target=\"_parent\"><img src=\"https://colab.research.google.com/assets/colab-badge.svg\" alt=\"Open In Colab\"/></a>"
      ]
    },
    {
      "cell_type": "markdown",
      "source": [
        "# Functions Assignment (Core) v2\n"
      ],
      "metadata": {
        "id": "XGvUsUJ52ggF"
      }
    },
    {
      "cell_type": "markdown",
      "source": [
        "- Name: "
      ],
      "metadata": {
        "id": "Dpy87G0O2joF"
      }
    },
    {
      "cell_type": "markdown",
      "source": [
        "# 👩‍🏫 Summarizing ice cream sales data 📈 \n"
      ],
      "metadata": {
        "id": "jOePcaF_dlTB"
      }
    },
    {
      "cell_type": "markdown",
      "source": [
        "\n",
        "In this assignment you will be working with sales data by date. The first cells will create the data and your tasks will be analyze it and organize it using loops, conditionals, lists, dictionaries and of course Functions."
      ],
      "metadata": {
        "id": "IIqSTcv62bwU"
      }
    },
    {
      "cell_type": "markdown",
      "source": [
        "## Ice Cream Sales Data\n"
      ],
      "metadata": {
        "id": "4qCHuR323Ylj"
      }
    },
    {
      "cell_type": "markdown",
      "source": [
        "\n",
        "For the next three questions, you will be working on the dictionary created in the following cell.\n",
        "\n",
        "This cell will create a dictionary for all sales in 2021 that includes every month. Each month will contain the flavors of ice cream sold.\n",
        "\n",
        "The data structure will be lists within a dictionary.  \n",
        "\n",
        "The top layer is a dictionary with months as keys and list of sales for each month as values.\n",
        "\n",
        "The inner layer will be a list of the names of flavors sold ( chocolate, mango, or vanilla).\n",
        "\n",
        "**Notice that there are two functions below that create the dictionary.  `create_monthly_sales()` is a helper function that `create_sales_data()` can use to create data for each month in the dataset.  Functions are often used inside other functions in Python.**"
      ],
      "metadata": {
        "id": "RN9rRvIeHbTl"
      }
    },
    {
      "cell_type": "code",
      "source": [
        "## RUN THIS CELL WITHOUT CHANGES\n",
        "# We will create a dictionary of months where each key is a month and each\n",
        "# Value will a list of flavors sold.\n",
        "import numpy as np\n",
        "import random\n",
        "random.seed(53)\n",
        "np.random.seed(53)\n",
        "\n",
        "# List of months\n",
        "months = ['Jan','Feb','Mar','Apr','May','Jun','Jul','Aug','Sept','Oct','Nov','Dec']\n",
        "\n",
        "# 100 sales per month\n",
        "n_sales = list(range(30,100))\n",
        "\n",
        "# list of flavors\n",
        "flavors = ['vanilla','chocolate','mango']\n",
        "\n",
        "\n",
        "def create_monthly_sales(n_sales, flavors):\n",
        "  \"\"\"Creates a list of monthly sales \n",
        "  \"\"\"\n",
        "\n",
        "  # create an empty monthly list of sales\n",
        "  month_sales = []\n",
        "  \n",
        "  # Loop through sales ideas\n",
        "  for sale_id in range(n_sales):\n",
        "  \n",
        "    # assign a random flavor sold for that sale from the list of flavors\n",
        "    i = random.randint(0, len(flavors) - 1)\n",
        "  \n",
        "    # add the flavor to the dictionary of monthly_sales\n",
        "    month_sales.append(flavors[i])\n",
        "\n",
        "  return month_sales\n",
        "\n",
        "\n",
        "\n",
        "def create_sales_data(months, flavors, n_sales):\n",
        "  \"\"\"create a dictionary of sales by month.  The keys will be months\n",
        "  and each value will be a dictionary of sales for that month\"\"\"\n",
        "\n",
        "  # Create an empty list of sales\n",
        "  sales = {}\n",
        "  \n",
        "  # Loop through the months\n",
        "  for month in months:\n",
        "  \n",
        "    # For each month, use a helper function to create a dictionary of \n",
        "    # sales for the month\n",
        "    n = np.random.choice(n_sales)\n",
        "    # keys of each dictionary will be a sale_id and values will be a flavor sold\n",
        "    # add the dictionary of sales for this month to the sales dictionary\n",
        "    sales[month] = create_monthly_sales(n, flavors)\n",
        "  \n",
        "  # return the dictionary of sales\n",
        "  return sales\n",
        "\n",
        "\n",
        "\n",
        "# inpect the dictionary.  Notice there are 12 dictionaries inside the sales\n",
        "# dictionary.  one dictionary for each month.\n",
        "sales = create_sales_data(months, flavors, n_sales)\n",
        "\n",
        "print(type(sales))\n",
        "sales.keys()"
      ],
      "metadata": {
        "id": "8_SjmFxGCz_G"
      },
      "execution_count": null,
      "outputs": []
    },
    {
      "cell_type": "markdown",
      "source": [
        "- The sales variable is a dictionary. We can see that there is a key for each month in this dictionary.\n",
        "- Slice out the values for \"Jan\" and save new variable called `month_sales`. You will use this variable as the input for your first function.\n",
        "- Example:\n",
        "```python\n",
        "# slicing out the data for \"Mar\"\n",
        "month_sales = sales['Mar']\n",
        "```"
      ],
      "metadata": {
        "id": "Hg9H2ndDXx6Z"
      }
    },
    {
      "cell_type": "code",
      "source": [
        "## Slice out the sales for month of \"Jan\" and save it as month_sales\n",
        "\n",
        "# Tip: replace the \"None\" below with your code\n"
      ],
      "metadata": {
        "id": "RE_3itknY0Gn"
      },
      "execution_count": null,
      "outputs": []
    },
    {
      "cell_type": "code",
      "source": [
        "## What type of data is stored for each month?\n",
        "print(type(month_sales))\n",
        "\n",
        "# Preview the first 10 entries\n",
        "month_sales[:10]"
      ],
      "metadata": {
        "id": "g7Nr9KmIIJb2"
      },
      "execution_count": null,
      "outputs": []
    },
    {
      "cell_type": "markdown",
      "source": [
        "- We can see that month_sales is a list of strings: the names of the flavors each customer purchased that month."
      ],
      "metadata": {
        "id": "NDwhUksWZ4Lq"
      }
    },
    {
      "cell_type": "markdown",
      "source": [
        "## Task 1:\n"
      ],
      "metadata": {
        "id": "SDQSfHtaBfXA"
      }
    },
    {
      "cell_type": "markdown",
      "source": [
        "\n",
        "> You've been asked to use your new Python skills to write a function that can count how many times each flavor was sold in 1 month.\n",
        "\n",
        "- Your must write a function called `get_count_flavors` that will:\n",
        "  - [ ] Take the list of flavors sold for 1 month (your `month_sales` variable) as its only input.\n",
        "  - [ ] Loop through the `month_sales` list and create a dictionary with the counts for how many times each flavor appeared in the list.\n",
        "  - [ ] Make sure your function `return`s the final dictionary as its final output.\n",
        "\n"
      ],
      "metadata": {
        "id": "XIjCszGiCc90"
      }
    },
    {
      "cell_type": "markdown",
      "source": [
        "\n",
        "#### Hint 1:  checking if a key already exists in a dictionary \n",
        "- You can use the `in` operator to check if a key is in the dictionary.\n",
        "\n",
        "```python\n",
        "\n",
        "# We want to check if the next item (\"mango\") already exists in the dict\n",
        "item = \"mango\"\n",
        "\n",
        "## Current Dictionary has 1 key: vanilla\n",
        "flavor_counts = {'vanilla':1}\n",
        "\n",
        "# Use the in operator to see if item is in the dict\n",
        "item in flavor_counts\n",
        "```\n",
        "\n",
        "```\n",
        "False\n",
        "```\n",
        "- Since the only key in the `flavor_counts` dict is \"vanilla\" the result is False.\n",
        "\n",
        "\n"
      ],
      "metadata": {
        "id": "MymigrPAXpjI"
      }
    },
    {
      "cell_type": "markdown",
      "source": [
        "\n",
        "#### Hint 2: combining `in` with `if`/`else`\n",
        "\n",
        "- If you combine this with an if/else statement you can check **if** a key already exists.\n",
        "  - `if` it exists, you can add 1 to the value.\n",
        "  ```python\n",
        "  if item in flavor_counts:\n",
        "      flavor_counts[item] += 1\n",
        "  ```\n",
        "  - If it doesn't exist (`else`) create the key and fill in the value with 1 (since its the first time we have an item of that type.\n",
        "  ```python\n",
        "  else:\n",
        "      flavor_counts[item] = 1\n",
        "  ```\n",
        "\n"
      ],
      "metadata": {
        "id": "EbeDf_q5fAs1"
      }
    },
    {
      "cell_type": "markdown",
      "source": [
        "> Note: if you'd prefer to write the function with the scaffolding in the comments below, feel free to delete them and start with a blank code cell instead."
      ],
      "metadata": {
        "id": "0WANrSmyPVM5"
      }
    },
    {
      "cell_type": "code",
      "source": [
        "# define your \"get_flavor_counts\" function here\n",
        "\n",
        "\n",
        "  # start an empty dictionary to save your flavor counts\n",
        "\n",
        "  # for each item in the the list\n",
        "\n",
        "\n",
        "    ## check if the item is in the dictionary,\n",
        "    # if it already exists:\n",
        "\n",
        "      \n",
        "      # increment the value by 1\n",
        "\n",
        "\n",
        "\n",
        "\n",
        "    # if it does NOT exist yet:\n",
        "\n",
        "      # add the item as a new key with a value = 1\n",
        "\n",
        "\n",
        "\n",
        "  # return the final results \n",
        "\n",
        "    "
      ],
      "metadata": {
        "id": "ly-w7-Qh__YD"
      },
      "execution_count": null,
      "outputs": []
    },
    {
      "cell_type": "markdown",
      "source": [
        "\n",
        "\n",
        "- Once you've completed your function, test your function using the `month_sales` variable from above.\n",
        "\n",
        "  - The result should look something like the dictionary below:\n",
        "  ```python\n",
        "  {'mango': 15, 'vanilla': 16, 'chocolate': 13}\n",
        "  ```\n",
        "\n"
      ],
      "metadata": {
        "id": "_M_I6femeM2y"
      }
    },
    {
      "cell_type": "code",
      "source": [
        "# Test your function using the month_sales variable\n"
      ],
      "metadata": {
        "id": "2Spd6d4kACDN"
      },
      "execution_count": null,
      "outputs": []
    },
    {
      "cell_type": "markdown",
      "source": [
        "If you got \"{'mango': 17, 'vanilla': 20, 'chocolate': 18}\" then great work!"
      ],
      "metadata": {
        "id": "0m55o1v-BOuJ"
      }
    },
    {
      "cell_type": "markdown",
      "source": [
        "\n",
        "\n",
        "## Task 2:\n"
      ],
      "metadata": {
        "id": "QmDyO5yaTLl2"
      }
    },
    {
      "cell_type": "markdown",
      "source": [
        "> Now that we have a helper function that can calculate the total number of items sold in one month,  you've been asked to use your new Python skills to get all of the flavor counts for every month in the `sales` dictionary.\n",
        "\n",
        "\n",
        "- Write a for loop that loops through the `sales` dictionary and uses your function to print out the information for every month.\n",
        "\n",
        "\n",
        "\n",
        "- Your loop must:\n",
        "\n",
        "  - [ ] Loop through the `sales` dictionary\n",
        "  - [ ] For each item in the dictionary, save the key as  `month_name` and save the value as the new `month_sales` variable. \n",
        "\n",
        "\n",
        "  - [ ] Print the month name. Even better would be to use an f-string to print (`\"For {month_name}:\"`)\n",
        "  - [ ] Use your helper function to get the counts dictionary with the # of each flavor sold that month.\n",
        "  ```python\n",
        "  # example use of function\n",
        "  flavor_counts = get_flavor_counts(month_sales)\n",
        "  ```\n",
        "  - [ ] Print flavor counts dictionary\n",
        "\n",
        "\n",
        "\n",
        "The output of your loop should look something like this (note: the actual counts for each flavor may not necessarily match the example below: \n",
        "  ```\n",
        "  For Jan:\n",
        "  {'mango': 17, 'vanilla':20,'chocolate':18}\n",
        "\n",
        "  For Feb:\n",
        "  {'mango':23,'vanilla':12,'chocolate':23}\n",
        "\n",
        "  #... etc\n",
        "  ```\n"
      ],
      "metadata": {
        "id": "SrzTj3RjCeOh"
      }
    },
    {
      "cell_type": "markdown",
      "source": [
        "\n",
        "- Create your for loop below:\n"
      ],
      "metadata": {
        "id": "3Pa_W0IZEiMK"
      }
    },
    {
      "cell_type": "markdown",
      "source": [
        "\n",
        "> Note: if you'd prefer to write the function with the scaffolding in the comments below, feel free to delete them and start with a blank code cell instead.\n",
        "\n",
        "\n"
      ],
      "metadata": {
        "id": "sxBE2Yq3Pznh"
      }
    },
    {
      "cell_type": "code",
      "source": [
        "# Create your for loop here.\n",
        "\n",
        "# loop through the sales dict\n",
        "\n",
        "\n",
        "  # print the month name\n",
        "\n",
        "\n",
        "  # slice out the month's sales data (list of flavors)\n",
        "\n",
        "\n",
        "  # use your function to get the flavor counts dict\n",
        "\n",
        "\n",
        "  # print the flavor counts dict\n",
        "\n",
        "  # print an extra empty line for readability\n"
      ],
      "metadata": {
        "id": "z45948fyDuzi"
      },
      "execution_count": null,
      "outputs": []
    },
    {
      "cell_type": "markdown",
      "source": [
        "# Congratulations!\n",
        "\n",
        "Your boss at the Ice Cream Store is very pleased with your code and has been making regular use of your functions and loops to create his sales reports.  Nice work!"
      ],
      "metadata": {
        "id": "Ce9YIzspgEpe"
      }
    }
  ]
}