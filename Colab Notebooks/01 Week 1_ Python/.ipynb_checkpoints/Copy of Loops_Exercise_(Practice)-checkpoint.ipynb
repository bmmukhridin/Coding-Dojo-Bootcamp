{
 "cells": [
  {
   "cell_type": "markdown",
   "metadata": {
    "id": "GoCvWTFUOpms"
   },
   "source": [
    "# Loops Exercise - Practice \n"
   ]
  },
  {
   "cell_type": "markdown",
   "metadata": {
    "id": "rMrbNHBiOvyV"
   },
   "source": [
    "In this notebook you will see examples of looping through lists, dictionaries, and nested dictionaries.  "
   ]
  },
  {
   "cell_type": "markdown",
   "metadata": {
    "id": "KkbBxivOO5BO"
   },
   "source": [
    "# Loops"
   ]
  },
  {
   "cell_type": "markdown",
   "metadata": {
    "id": "EBihK_uwPah7"
   },
   "source": [
    "## Continuing with Coworkers Favorites"
   ]
  },
  {
   "cell_type": "markdown",
   "metadata": {
    "id": "IvrdmA5RQLwh"
   },
   "source": [
    "This task continues the activity from the Indexing and Slicing - Dictionaries practice assignment. As a reminder, a group of co-workers realized that they don't know each other very well beyond the day to day tasks of their jobs.\n",
    "\n",
    "To help build team comraderie, they decided to share their favorite colors and candy with everyone.  We used a nested dictionary with everyone's names as the keys and their favorite items as the values.\n",
    "\n",
    "\n",
    "Run the cell below to create the dictionary of favorite items from the end of the Indexing and Slicing - Dictionaries practice assignment."
   ]
  },
  {
   "cell_type": "code",
   "execution_count": 1,
   "metadata": {
    "colab": {
     "base_uri": "https://localhost:8080/"
    },
    "executionInfo": {
     "elapsed": 8,
     "status": "ok",
     "timestamp": 1677651907773,
     "user": {
      "displayName": "Mukhriddin Bakhramov",
      "userId": "09980958738129507431"
     },
     "user_tz": 480
    },
    "id": "_v_UC8hbOWnD",
    "outputId": "c4811447-8fc9-4d0f-be4c-a782a5ce5a53"
   },
   "outputs": [
    {
     "data": {
      "text/plain": [
       "['James', 'Purvi', 'Sherlin', 'Josh', 'Neerja', 'Brenda']"
      ]
     },
     "execution_count": 1,
     "metadata": {},
     "output_type": "execute_result"
    }
   ],
   "source": [
    "## Run this cell without making changes.\n",
    "\n",
    "fav_things = {'James': {'color': 'Purple', 'candy': 'Jelly Bellies'},\n",
    "             'Purvi': {'color': 'Green', 'candy': 'Dark Chocolate'},\n",
    "             'Sherlin': {'color': 'Purple', 'candy': \"Peanut M&M's\"},\n",
    "             'Josh': {'color': 'Indigo', 'candy': 'Chocolate Covered Potato Chips'},\n",
    "             'Neerja': {'color': 'Green', 'candy': 'Dark Chocolate'},\n",
    "             'Brenda': {'color': 'Blue', 'candy': \"Reese's Cups\"}}\n",
    "\n",
    "# Saving list of names\n",
    "names_list = list(fav_things.keys())\n",
    "names_list"
   ]
  },
  {
   "cell_type": "markdown",
   "metadata": {
    "id": "8eFfJKk5SrcL"
   },
   "source": [
    "Now that we have our dictionary with everyone's names as the keys and their favorite items as a nested dictionary, we want to share this information with a well-formatted print statement. \n",
    "\n",
    "The group has decided that to print a greeting and  favorite items for each team member using full sentences. \n",
    "\n",
    "Let's construct our greeting message first\n",
    "\n"
   ]
  },
  {
   "cell_type": "markdown",
   "metadata": {
    "id": "3mIBgP60SaFC"
   },
   "source": [
    "# Looping Through Lists"
   ]
  },
  {
   "cell_type": "markdown",
   "metadata": {
    "id": "akrWekRvU31-"
   },
   "source": [
    "The first print statement we will need is a simple greeting. \n",
    "\n",
    "For each person in our `sorted_names`, print: \"Hello everyone! My name is `[their name]`.\"  Where `[their name]` should be replaced with the variable that contains their name. \n",
    "\n",
    "Tip: we will need to use F-strings to insert a variable into a string. Review the section on F-strings from the \"Declaring Variables\" lesson\n",
    "\n"
   ]
  },
  {
   "cell_type": "markdown",
   "metadata": {
    "id": "Jmn8qicCd0vk"
   },
   "source": [
    "## Testing Our Loop with 1 Example"
   ]
  },
  {
   "cell_type": "markdown",
   "metadata": {
    "id": "Oa-dPG3pdz7-"
   },
   "source": [
    "\n",
    "Before we construct our full loop, let's slice out 1 name from the list of sorted names and write our print statement using this 1 name."
   ]
  },
  {
   "cell_type": "code",
   "execution_count": 2,
   "metadata": {
    "colab": {
     "base_uri": "https://localhost:8080/"
    },
    "executionInfo": {
     "elapsed": 8,
     "status": "ok",
     "timestamp": 1677651914487,
     "user": {
      "displayName": "Mukhriddin Bakhramov",
      "userId": "09980958738129507431"
     },
     "user_tz": 480
    },
    "id": "b-hBBJafTV5b",
    "outputId": "365fc9ea-7638-445a-a9bf-7134fd39d6f1"
   },
   "outputs": [
    {
     "name": "stdout",
     "output_type": "stream",
     "text": [
      "Hello, everyone! My name is James.\n"
     ]
    }
   ],
   "source": [
    "# Run this cell without changes\n",
    "\n",
    "# saving the first name from the list \n",
    "name = names_list[0]\n",
    "print(f\"Hello, everyone! My name is {name}.\")"
   ]
  },
  {
   "cell_type": "markdown",
   "metadata": {
    "id": "ngQXgaLad-Wb"
   },
   "source": [
    "Now that we have our code working for our single test name, let's convert this into a for loop.\n"
   ]
  },
  {
   "cell_type": "markdown",
   "metadata": {
    "id": "0REGx4gpfR3Z"
   },
   "source": [
    "## Constructing Our Loops from Our Test Case"
   ]
  },
  {
   "cell_type": "markdown",
   "metadata": {
    "id": "OuYpevHHfRGm"
   },
   "source": [
    "\n",
    "Now, we want to loop through all of the names in sorted_names. We need to use start our loop with a `for` statement in which we assign a variable to a single item from our container (our sorted_names). \n",
    "\n",
    "If we use the same variable name in our for statement that we used as the variable name for our single test case, then we can use our test print statement as-is, just inside of our loop!"
   ]
  },
  {
   "cell_type": "markdown",
   "metadata": {
    "id": "pT_Yk3g49y1B"
   },
   "source": [
    "### 💪 Your Turn"
   ]
  },
  {
   "cell_type": "markdown",
   "metadata": {
    "id": "JLpT-taV91UR"
   },
   "source": [
    "- Turn the test code for print 1 greeting above into a for loop through the entire name_list."
   ]
  },
  {
   "cell_type": "code",
   "execution_count": 2,
   "metadata": {
    "colab": {
     "base_uri": "https://localhost:8080/"
    },
    "executionInfo": {
     "elapsed": 319,
     "status": "ok",
     "timestamp": 1677652134527,
     "user": {
      "displayName": "Mukhriddin Bakhramov",
      "userId": "09980958738129507431"
     },
     "user_tz": 480
    },
    "id": "eSLwK-XKWFns",
    "outputId": "14ccfb25-fd12-4f98-a49c-d0914e88077f"
   },
   "outputs": [
    {
     "name": "stdout",
     "output_type": "stream",
     "text": [
      "Hello, everyone! My name is James.\n",
      "Hello, everyone! My name is Purvi.\n",
      "Hello, everyone! My name is Sherlin.\n",
      "Hello, everyone! My name is Josh.\n",
      "Hello, everyone! My name is Neerja.\n",
      "Hello, everyone! My name is Brenda.\n"
     ]
    }
   ],
   "source": [
    "# for each_item in this collection_of_items\n",
    "for i in range(len(names_list)):\n",
    "  # print our statement\n",
    "  print(f\"Hello, everyone! My name is {names_list[i]}.\")"
   ]
  },
  {
   "cell_type": "markdown",
   "metadata": {
    "id": "aQCsdKlWgJdt"
   },
   "source": [
    "Your output should look similar to this:\n",
    "```\n",
    "Hello, everyone! My name is Brenda.\n",
    "Hello, everyone! My name is James.\n",
    "Hello, everyone! My name is Josh.\n",
    "Hello, everyone! My name is Neerja.\n",
    "Hello, everyone! My name is Purvi.\n",
    "Hello, everyone! My name is Sherlin.\n",
    "```"
   ]
  },
  {
   "cell_type": "markdown",
   "metadata": {
    "id": "d3pJWCISwT9_"
   },
   "source": [
    "We ultimately want to add additional print statements to report their person's favorite candy and color. \n",
    "\n",
    "Let's first reproduce the our greeting from above, but using our `fav_things` dictionary. \n",
    "\n"
   ]
  },
  {
   "cell_type": "markdown",
   "metadata": {
    "id": "-loLvEyLfktE"
   },
   "source": [
    "# Looping Through Dictionaries"
   ]
  },
  {
   "cell_type": "markdown",
   "metadata": {
    "id": "Kei5LLYuyhmn"
   },
   "source": [
    "## Looping Through Keys"
   ]
  },
  {
   "cell_type": "markdown",
   "metadata": {
    "id": "z7UAou8sBGEy"
   },
   "source": [
    "\n",
    "If we loop through a dictionary, Python will use just the keys by default. "
   ]
  },
  {
   "cell_type": "markdown",
   "metadata": {
    "id": "xT7KH0zxAOL9"
   },
   "source": [
    "#### 💪 Your Turn\n"
   ]
  },
  {
   "cell_type": "markdown",
   "metadata": {
    "id": "16soHO_kAeio"
   },
   "source": [
    "\n",
    "Copy your for loop through the names_list above and paste it into the cell below. Replace the `names_list` with the `fav_things` dictionary and confirm you get the same output as your prior loop."
   ]
  },
  {
   "cell_type": "code",
   "execution_count": 3,
   "metadata": {
    "id": "PJnru5lBwTBH"
   },
   "outputs": [
    {
     "name": "stdout",
     "output_type": "stream",
     "text": [
      "Hello, everyone! My name is James.\n",
      "Hello, everyone! My name is Purvi.\n",
      "Hello, everyone! My name is Sherlin.\n",
      "Hello, everyone! My name is Josh.\n",
      "Hello, everyone! My name is Neerja.\n",
      "Hello, everyone! My name is Brenda.\n"
     ]
    }
   ],
   "source": [
    "## Run this cell without changes\n",
    "\n",
    "# for key in my_dictionary\n",
    "for name in fav_things:\n",
    "\n",
    "  # print our statement\n",
    "  print(f\"Hello, everyone! My name is {name}.\")"
   ]
  },
  {
   "cell_type": "markdown",
   "metadata": {
    "id": "Agv2zgHDyHf2"
   },
   "source": [
    "\n",
    "\n",
    "Note: we could also loop through the dictionaries' `.keys()` to get the same result. \n",
    "Both examples below produce the same output."
   ]
  },
  {
   "cell_type": "code",
   "execution_count": 4,
   "metadata": {
    "id": "BYyC9bXSyQ8d"
   },
   "outputs": [
    {
     "name": "stdout",
     "output_type": "stream",
     "text": [
      "Hello, everyone! My name is James.\n",
      "Hello, everyone! My name is Purvi.\n",
      "Hello, everyone! My name is Sherlin.\n",
      "Hello, everyone! My name is Josh.\n",
      "Hello, everyone! My name is Neerja.\n",
      "Hello, everyone! My name is Brenda.\n"
     ]
    }
   ],
   "source": [
    "## Run this cell without changes\n",
    "\n",
    "# for key in my_dictionary.keys()\n",
    "for name in fav_things.keys():\n",
    "\n",
    "  # print our statement\n",
    "  print(f\"Hello, everyone! My name is {name}.\")"
   ]
  },
  {
   "cell_type": "markdown",
   "metadata": {
    "id": "bLsN0dH3yq_F"
   },
   "source": [
    "## Looping through Keys (and the Corresponding Values)"
   ]
  },
  {
   "cell_type": "markdown",
   "metadata": {
    "id": "I5X58T5gyt9t"
   },
   "source": [
    "Once we have our key (the name), we can use that key to slice out the corresponding value. \n",
    "Reminder: in this case, our values are a nested dictionary with 2 keys: \"color\" & \"candy\".\n",
    "\n",
    "Let's slice out an example to remind ourselves that we are working with.\n"
   ]
  },
  {
   "cell_type": "code",
   "execution_count": 6,
   "metadata": {
    "id": "f7S8E7mCzkX-"
   },
   "outputs": [
    {
     "data": {
      "text/plain": [
       "{'color': 'Indigo', 'candy': 'Chocolate Covered Potato Chips'}"
      ]
     },
     "execution_count": 6,
     "metadata": {},
     "output_type": "execute_result"
    }
   ],
   "source": [
    "# Run this cell without changes\n",
    "\n",
    "# using \"Josh\" as our test key\n",
    "name = \"Josh\"\n",
    "\n",
    "# Slicing out their favorite items\n",
    "their_favs = fav_things[name]\n",
    "their_favs"
   ]
  },
  {
   "cell_type": "markdown",
   "metadata": {
    "id": "ARnxNSyKz0Ae"
   },
   "source": [
    "### Testing Printing Favorite Items"
   ]
  },
  {
   "cell_type": "markdown",
   "metadata": {
    "id": "-lIG_j81z_hF"
   },
   "source": [
    "Now that we have our test variables, let's construct our print statements to print the current person's favorite candy and color. \n",
    "\n",
    "\n",
    "We still want to start with a greeting. \n",
    "We then want to print what their favorite color is (e.g. \"My favorite color is [fav color].\") followed by their favorite candy (e.g. \"My favorite candy is [fav candy].\") . \n"
   ]
  },
  {
   "cell_type": "markdown",
   "metadata": {
    "id": "rTKbfWsd-H2a"
   },
   "source": [
    "### 💪 Your Turn"
   ]
  },
  {
   "cell_type": "markdown",
   "metadata": {
    "id": "uVH2CT2D-L9I"
   },
   "source": [
    "Print the 3 statements detailed above: the greeting with their name, their favorite color, and their favorite candy.\n",
    "\n",
    "Remember, the `their_favs` varaible we created above has a key for \"color\" and a key for \"candy\"\n",
    "\n"
   ]
  },
  {
   "cell_type": "code",
   "execution_count": 24,
   "metadata": {
    "id": "rqR4S9SD0eFQ"
   },
   "outputs": [
    {
     "name": "stdout",
     "output_type": "stream",
     "text": [
      "Hello, everyone! My name is Josh.\n",
      "My favorite color is Indigo.\n",
      "My favorite candy is Chocolate Covered Potato Chips.\n"
     ]
    }
   ],
   "source": [
    "# Print the greeting message, again.\n",
    "print(f'Hello, everyone! My name is {name}.')\n",
    "\n",
    "# Print the favorite color\n",
    "print(f\"My favorite color is {their_favs['color']}.\")\n",
    "# Print the favorite candy\n",
    "print(f\"My favorite candy is {their_favs['candy']}.\")"
   ]
  },
  {
   "cell_type": "markdown",
   "metadata": {
    "id": "GPMhnFts3DP8"
   },
   "source": [
    "\n",
    "Your final output should look like this:\n",
    "\n",
    "```\n",
    "Hello, everyone! My name is Josh.\n",
    "My favorite color is Inidgo.\n",
    "My favorite candy is Chocolate Covered Potato Chips.\n",
    "```\n"
   ]
  },
  {
   "cell_type": "markdown",
   "metadata": {
    "id": "LYzxUiWl3MUK"
   },
   "source": [
    "## Constructing Our Loop from Our Test Case"
   ]
  },
  {
   "cell_type": "markdown",
   "metadata": {
    "id": "a2B7gQ6C3rhK"
   },
   "source": [
    "Now that we've successfully constructed the first person's print statements, let's turn this into a loop just like we did before. \n",
    "\n"
   ]
  },
  {
   "cell_type": "markdown",
   "metadata": {
    "id": "h1TNR_qq-iZy"
   },
   "source": [
    "### 💪 Your Turn"
   ]
  },
  {
   "cell_type": "markdown",
   "metadata": {
    "id": "fmlRdzdy-hkY"
   },
   "source": [
    "- Convert your test code from the previous example above into a for loop through the entire `fav_things` dictionary. \n",
    "\n",
    "\n",
    ">Tip: now that we are printing multiple lines in each iteration of our loop, it is a good idea to print some empty lines between each iteration of the loop. (As the last line of code inside our loop). To do so, we can use an empty print statement or we can print one or more new line characters `print('\\n')`."
   ]
  },
  {
   "cell_type": "code",
   "execution_count": 59,
   "metadata": {
    "id": "fDv7ZgVzzgfj"
   },
   "outputs": [
    {
     "name": "stdout",
     "output_type": "stream",
     "text": [
      "Hello, everyone! My name is James.\n",
      "My favorite color is Purple.\n",
      "My favorite candy is Jelly Bellies.\n",
      "\n",
      "\n",
      "Hello, everyone! My name is Purvi.\n",
      "My favorite color is Green.\n",
      "My favorite candy is Dark Chocolate.\n",
      "\n",
      "\n",
      "Hello, everyone! My name is Sherlin.\n",
      "My favorite color is Purple.\n",
      "My favorite candy is Peanut M&M's.\n",
      "\n",
      "\n",
      "Hello, everyone! My name is Josh.\n",
      "My favorite color is Indigo.\n",
      "My favorite candy is Chocolate Covered Potato Chips.\n",
      "\n",
      "\n",
      "Hello, everyone! My name is Neerja.\n",
      "My favorite color is Green.\n",
      "My favorite candy is Dark Chocolate.\n",
      "\n",
      "\n",
      "Hello, everyone! My name is Brenda.\n",
      "My favorite color is Blue.\n",
      "My favorite candy is Reese's Cups.\n",
      "\n",
      "\n"
     ]
    }
   ],
   "source": [
    "## Loop through fav_things and print each person's greeting and favorites.\n",
    "names1 = list(fav_things.keys())\n",
    "# for key in my_dictionary\n",
    "for idx in range(len(names1)):\n",
    "  # slice corresponding value\n",
    "    name = names1[idx]\n",
    "  # Print the greeting message.\n",
    "    print(f\"Hello, everyone! My name is {name}.\")\n",
    "    \n",
    "  # Print the favorite color\n",
    "    print(f\"My favorite color is {fav_things[name]['color']}.\")\n",
    "    \n",
    "  # Print the favorite candy\n",
    "    print(f\"My favorite candy is {fav_things[name]['candy']}.\")\n",
    "\n",
    "  ## Print an empty line for readability.\n",
    "    print('\\n')"
   ]
  },
  {
   "cell_type": "markdown",
   "metadata": {
    "id": "BHZtS58a7o8x"
   },
   "source": [
    "Your output should look like the following, but it should include every key.\n",
    "\n",
    "```\n",
    "Hello, everyone! My name is James.\n",
    "My favorite color is Purple.\n",
    "My favorite candy is Jelly Bellies.\n",
    "\n",
    "\n",
    "Hello, everyone! My name is Purvi.\n",
    "My favorite color is Green.\n",
    "My favorite candy is Dark Chocolate.\n",
    "\n",
    "\n",
    "Hello, everyone! My name is Sherlin.\n",
    "My favorite color is Purple.\n",
    "My favorite candy is Peanut M&M's.\n",
    "\n",
    "... [You should have several more print statements]\n",
    "\n",
    "```"
   ]
  },
  {
   "cell_type": "markdown",
   "metadata": {
    "id": "XGyfGQM1_pzV"
   },
   "source": [
    "If you were able to get the print statement for every name in our dictionary, excellent work! "
   ]
  },
  {
   "cell_type": "markdown",
   "metadata": {
    "id": "xvvtdvTc5P1n"
   },
   "source": [
    "## Pro Tips: Looping Through Dictionaries"
   ]
  },
  {
   "cell_type": "markdown",
   "metadata": {
    "id": "q_ME-oEd_555"
   },
   "source": [
    "Below are some additional tips on getting the most out of loops with dictionaries."
   ]
  },
  {
   "cell_type": "markdown",
   "metadata": {
    "id": "00lEmsiQ4iJV"
   },
   "source": [
    "### Looping through a dictionary's `.items()`"
   ]
  },
  {
   "cell_type": "markdown",
   "metadata": {
    "id": "LoEd13N64qux"
   },
   "source": [
    "Instead of looping through our keys and then using the key to slice out the correct value from our dictionary, we can actually get BOTH the key AND its value if we loop through a dictionary's `.items()`.\n",
    "\n",
    "When we use .items(), we need to provide 2 variable names in our `for` loop, the first will be the key and the second will be the value.\n",
    "\n",
    "e.g. `for key, value in dictionary.items():`"
   ]
  },
  {
   "cell_type": "code",
   "execution_count": null,
   "metadata": {
    "id": "oYvCqklo5IhW"
   },
   "outputs": [],
   "source": [
    "## Run this cell without changes\n",
    "\n",
    "\n",
    "# for key in my_dictionary\n",
    "for name, their_favs in fav_things.items():\n",
    "\n",
    "  ## this line is no longer needed.\n",
    "  # their_favs = fav_things[name]\n",
    "\n",
    "  # Print the greeting message.\n",
    "  print(f\"Hello, everyone! My name is {name}.\")\n",
    "\n",
    "  # Print the favorite color\n",
    "  print(f\"My favorite color is {their_favs['color']}.\")\n",
    "\n",
    "  # Print the favorite candy\n",
    "  print(f\"My favorite candy is {their_favs['candy']}.\")\n",
    "\n",
    "  ## Print an empty line for readability.\n",
    "  print(\"\\n\")\n"
   ]
  },
  {
   "cell_type": "markdown",
   "metadata": {
    "id": "RjqCMPhl7_UG"
   },
   "source": [
    "### Using Nested Loops"
   ]
  },
  {
   "cell_type": "markdown",
   "metadata": {
    "id": "dx-XeFll7AOa"
   },
   "source": [
    "Taking this one step further, our nested dictionary is named with the category of favorite item as the key (e.g. 'candy') and the specific item as the value. \n",
    "\n",
    "We could ALSO loop through this inner dictionary to print the same message, but we will grab the keys and values for the inner favorite dictionaries in a loop, too! "
   ]
  },
  {
   "cell_type": "code",
   "execution_count": null,
   "metadata": {
    "id": "detW0x-17T4d"
   },
   "outputs": [],
   "source": [
    "## Run this cell without changes\n",
    "\n",
    "# for key in my_dictionary\n",
    "for name, their_favs in fav_things.items():\n",
    "\n",
    "  ## this line is no longer needed.\n",
    "  # their_favs = fav_things[name]\n",
    "\n",
    "  # Print the greeting message.\n",
    "  print(f\"Hello, everyone! My name is {name}.\")\n",
    "\n",
    "  for category, item in their_favs.items():\n",
    "    # Print the favorite color\n",
    "    print(f\"My favorite {category} is {item}.\")\n",
    "\n",
    "\n",
    "  ## Print an empty line for readability.\n",
    "  print(\"\\n\")\n"
   ]
  },
  {
   "cell_type": "markdown",
   "metadata": {
    "id": "sMcv64Cf7TTF"
   },
   "source": [
    "The benfit of this nested loop approach is that each team member could list any type of favorite items they want and the loop can still handle the new keys/values. Let's add some additional favorites to our fav_items dictionary and then re-run the same nested for loop."
   ]
  },
  {
   "cell_type": "code",
   "execution_count": null,
   "metadata": {
    "id": "2EyS5Hnd8b6s"
   },
   "outputs": [],
   "source": [
    "# Run this cell without changes\n",
    "\n",
    "## adding new fav items\n",
    "fav_things['James']['TV show'] = 'Buffy the Vampire Slayer'\n",
    "fav_things['Josh']['stack'] = 'Stack 3: Advanced ML'\n",
    "fav_things['Brenda']['season'] = 'Fall'"
   ]
  },
  {
   "cell_type": "markdown",
   "metadata": {
    "id": "7NwoJ2yR9CxF"
   },
   "source": [
    "We've now added new keys to our inner dictionaries that we did not plan for when constructing our loop. \n",
    "\n",
    "But it doesn't mattter: our inner loop will handle this for us!"
   ]
  },
  {
   "cell_type": "code",
   "execution_count": null,
   "metadata": {
    "id": "iwYFhxWh8jhQ"
   },
   "outputs": [],
   "source": [
    "## Run this cell without changes \n",
    "# THIS IS THE SAME EXACT CODE AS PRIOR LOOP\n",
    "\n",
    "# for key in my_dictionary\n",
    "for name, their_favs in fav_things.items():\n",
    "\n",
    "  ## this line is no longer needed.\n",
    "  # their_favs = fav_things[name]\n",
    "\n",
    "  # Print the greeting message.\n",
    "  print(f\"Hello, everyone! My name is {name}.\")\n",
    "\n",
    "  for category, item in their_favs.items():\n",
    "    # Print the favorite color\n",
    "    print(f\"My favorite {category} is {item}.\")\n",
    "\n",
    "\n",
    "  ## Print an empty line for readability.\n",
    "  print(\"\\n\")\n"
   ]
  },
  {
   "cell_type": "markdown",
   "metadata": {
    "id": "XiASp0ck-7lY"
   },
   "source": [
    "## Summary"
   ]
  },
  {
   "cell_type": "markdown",
   "metadata": {
    "id": "YqZuasYN-8Sp"
   },
   "source": [
    "In this assignment you practiced working with for loops. We reviewed how to construct a test case for a single item first. We then reviewed how to turn that example into a loop through an iterable. You practiced looping through lists, and dictionaries. \n",
    "\n",
    "You also learned how to loop through both the keys and values at the same time be loooping through the dictionary's `.items()`."
   ]
  }
 ],
 "metadata": {
  "colab": {
   "provenance": [
    {
     "file_id": "https://github.com/coding-dojo-data-science/python-basics-notebooks/blob/main/Loops_Exercise_(Practice).ipynb",
     "timestamp": 1677651872012
    }
   ],
   "toc_visible": true
  },
  "kernelspec": {
   "display_name": "Python 3 (ipykernel)",
   "language": "python",
   "name": "python3"
  },
  "language_info": {
   "codemirror_mode": {
    "name": "ipython",
    "version": 3
   },
   "file_extension": ".py",
   "mimetype": "text/x-python",
   "name": "python",
   "nbconvert_exporter": "python",
   "pygments_lexer": "ipython3",
   "version": "3.9.13"
  }
 },
 "nbformat": 4,
 "nbformat_minor": 1
}
