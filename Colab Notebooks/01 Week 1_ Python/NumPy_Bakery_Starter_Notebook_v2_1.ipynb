{
  "cells": [
    {
      "cell_type": "markdown",
      "metadata": {
        "id": "DFzmQA3hQcbr"
      },
      "source": [
        "# NumPy Bakery Starter Notebook"
      ]
    },
    {
      "cell_type": "markdown",
      "metadata": {
        "id": "JqdV4mq6_q1J"
      },
      "source": [
        "- Student Name: \n"
      ]
    },
    {
      "cell_type": "markdown",
      "metadata": {
        "id": "UNK_9hiY27Y1"
      },
      "source": [
        "## Instructions"
      ]
    },
    {
      "cell_type": "markdown",
      "metadata": {
        "id": "rBw1QrGq28lg"
      },
      "source": [
        " The first portion of the notebook is the content from the related lesson that is required to continue the activity. \n",
        " \n",
        "- Jump down to the \"✍️ **Assignment Starts Here**\" header to begin your work.\n"
      ]
    },
    {
      "cell_type": "markdown",
      "metadata": {
        "id": "Jz0Y8l-cVZQE"
      },
      "source": [
        "#  📚 Bake Sale Mini-Project (From Lesson)"
      ]
    },
    {
      "cell_type": "markdown",
      "metadata": {
        "id": "1eH2K7UxbCwC"
      },
      "source": [
        "## Our Task"
      ]
    },
    {
      "cell_type": "markdown",
      "metadata": {
        "id": "jKunQXa_UJ0O"
      },
      "source": [
        "\n",
        "Often in your work as a data science you will be loading outside datasets into your Python environment.  Today, however, we will create a simple data set for a mini-project analyzing the results of a bake sale.\n",
        "\n",
        "Let's suppose the \"Teens for Tech\" club has asked you to help them analyze data from their ongoing bake sale.  \n",
        "\n",
        "- They are planning on selling the following baked goods every day for a week.\n",
        "    - brownie: \\$2\n",
        "    - cookie: \\$1\n",
        "    - cake: $10\n",
        "\n",
        "- They were hoping to raise $200. \n",
        "\n",
        "\n",
        "\n"
      ]
    },
    {
      "cell_type": "markdown",
      "metadata": {
        "id": "nJakgQbbXVBs"
      },
      "source": [
        "## 1) Starting with Lists"
      ]
    },
    {
      "cell_type": "markdown",
      "metadata": {
        "id": "jJ3wsrw9UUT2"
      },
      "source": [
        "#### Names\n",
        "1. Declare a variable, `names_list`, that is a list containing the names of the baked goods they plan to sell.\n",
        "2. Print the names list.\n"
      ]
    },
    {
      "cell_type": "code",
      "execution_count": null,
      "metadata": {
        "colab": {
          "base_uri": "https://localhost:8080/"
        },
        "id": "25mrA5oC8x4o",
        "outputId": "eeb756bd-dba0-4f7c-fa03-600c2da36b47"
      },
      "outputs": [
        {
          "ename": "",
          "evalue": "",
          "output_type": "error",
          "traceback": [
            "\u001b[1;31mFailed to start the Kernel. \n",
            "\u001b[1;31mJupyter server crashed. Unable to connect. \n",
            "\u001b[1;31mError code from Jupyter: 1\n",
            "\u001b[1;31musage: jupyter.py [-h] [--version] [--config-dir] [--data-dir] [--runtime-dir]\n",
            "\u001b[1;31m                  [--paths] [--json] [--debug]\n",
            "\u001b[1;31m                  [subcommand]\n",
            "\u001b[1;31m\n",
            "\u001b[1;31mJupyter: Interactive Computing\n",
            "\u001b[1;31m\n",
            "\u001b[1;31mpositional arguments:\n",
            "\u001b[1;31m  subcommand     the subcommand to launch\n",
            "\u001b[1;31m\n",
            "\u001b[1;31moptions:\n",
            "\u001b[1;31m  -h, --help     show this help message and exit\n",
            "\u001b[1;31m  --version      show the versions of core jupyter packages and exit\n",
            "\u001b[1;31m  --config-dir   show Jupyter config dir\n",
            "\u001b[1;31m  --data-dir     show Jupyter data dir\n",
            "\u001b[1;31m  --runtime-dir  show Jupyter runtime dir\n",
            "\u001b[1;31m  --paths        show all Jupyter paths. Add --json for machine-readable\n",
            "\u001b[1;31m                 format.\n",
            "\u001b[1;31m  --json         output paths as machine-readable json\n",
            "\u001b[1;31m  --debug        output debug information about paths\n",
            "\u001b[1;31m\n",
            "\u001b[1;31mAvailable subcommands:\n",
            "\u001b[1;31m\n",
            "\u001b[1;31mJupyter command `jupyter-notebook` not found. \n",
            "\u001b[1;31mView Jupyter <a href='command:jupyter.viewOutput'>log</a> for further details."
          ]
        }
      ],
      "source": [
        "names_list = ['brownie','cookie','cake']\n",
        "print(names_list)"
      ]
    },
    {
      "cell_type": "markdown",
      "metadata": {
        "id": "SPH5SFvWVj4c"
      },
      "source": [
        "#### Prices\n",
        "\n",
        "\n",
        "\n",
        "1. Declare a second variable, `prices_list`, that is a list containing the prices of each good (as integers). \n",
        "    - Make that you have the names and prices in the same order (if brownie is first in your names list, then its price should be the first value in your prices list).\n",
        "\n",
        "\n",
        "2. Print the prices list.\n"
      ]
    },
    {
      "cell_type": "code",
      "execution_count": null,
      "metadata": {
        "colab": {
          "base_uri": "https://localhost:8080/"
        },
        "id": "Gd8Vdol_UtvR",
        "outputId": "e9051ce9-6e1f-47e3-80f9-e2d422c20d17"
      },
      "outputs": [
        {
          "ename": "",
          "evalue": "",
          "output_type": "error",
          "traceback": [
            "\u001b[1;31mFailed to start the Kernel. \n",
            "\u001b[1;31mJupyter server crashed. Unable to connect. \n",
            "\u001b[1;31mError code from Jupyter: 1\n",
            "\u001b[1;31musage: jupyter.py [-h] [--version] [--config-dir] [--data-dir] [--runtime-dir]\n",
            "\u001b[1;31m                  [--paths] [--json] [--debug]\n",
            "\u001b[1;31m                  [subcommand]\n",
            "\u001b[1;31m\n",
            "\u001b[1;31mJupyter: Interactive Computing\n",
            "\u001b[1;31m\n",
            "\u001b[1;31mpositional arguments:\n",
            "\u001b[1;31m  subcommand     the subcommand to launch\n",
            "\u001b[1;31m\n",
            "\u001b[1;31moptions:\n",
            "\u001b[1;31m  -h, --help     show this help message and exit\n",
            "\u001b[1;31m  --version      show the versions of core jupyter packages and exit\n",
            "\u001b[1;31m  --config-dir   show Jupyter config dir\n",
            "\u001b[1;31m  --data-dir     show Jupyter data dir\n",
            "\u001b[1;31m  --runtime-dir  show Jupyter runtime dir\n",
            "\u001b[1;31m  --paths        show all Jupyter paths. Add --json for machine-readable\n",
            "\u001b[1;31m                 format.\n",
            "\u001b[1;31m  --json         output paths as machine-readable json\n",
            "\u001b[1;31m  --debug        output debug information about paths\n",
            "\u001b[1;31m\n",
            "\u001b[1;31mAvailable subcommands:\n",
            "\u001b[1;31m\n",
            "\u001b[1;31mJupyter command `jupyter-notebook` not found. \n",
            "\u001b[1;31mView Jupyter <a href='command:jupyter.viewOutput'>log</a> for further details."
          ]
        }
      ],
      "source": [
        "prices_list = [2,1,10]\n",
        "print(prices_list)"
      ]
    },
    {
      "cell_type": "markdown",
      "metadata": {
        "id": "RvXu7yr8bUkf"
      },
      "source": [
        "## Bake Sale Results (So Far)"
      ]
    },
    {
      "cell_type": "markdown",
      "metadata": {
        "id": "VJ-0FJq9U9BG"
      },
      "source": [
        "#### Quantities Sold"
      ]
    },
    {
      "cell_type": "markdown",
      "metadata": {
        "id": "aZROpt8wVBoe"
      },
      "source": [
        "- So far, the club has sold:\n",
        "    - 17 brownies\n",
        "    - 40 cookies\n",
        "    - and 1 cake.  \n",
        "\n",
        "1. Declare a new list with these values called `quantities_sold_list`.\n",
        "2. Print the quantities_sold_list.\n",
        "\n"
      ]
    },
    {
      "cell_type": "code",
      "execution_count": null,
      "metadata": {
        "colab": {
          "base_uri": "https://localhost:8080/"
        },
        "id": "UPIqJP6kVBhE",
        "outputId": "757f0705-d0af-4ed5-a2b1-f793ac497078"
      },
      "outputs": [
        {
          "ename": "",
          "evalue": "",
          "output_type": "error",
          "traceback": [
            "\u001b[1;31mFailed to start the Kernel. \n",
            "\u001b[1;31mJupyter server crashed. Unable to connect. \n",
            "\u001b[1;31mError code from Jupyter: 1\n",
            "\u001b[1;31musage: jupyter.py [-h] [--version] [--config-dir] [--data-dir] [--runtime-dir]\n",
            "\u001b[1;31m                  [--paths] [--json] [--debug]\n",
            "\u001b[1;31m                  [subcommand]\n",
            "\u001b[1;31m\n",
            "\u001b[1;31mJupyter: Interactive Computing\n",
            "\u001b[1;31m\n",
            "\u001b[1;31mpositional arguments:\n",
            "\u001b[1;31m  subcommand     the subcommand to launch\n",
            "\u001b[1;31m\n",
            "\u001b[1;31moptions:\n",
            "\u001b[1;31m  -h, --help     show this help message and exit\n",
            "\u001b[1;31m  --version      show the versions of core jupyter packages and exit\n",
            "\u001b[1;31m  --config-dir   show Jupyter config dir\n",
            "\u001b[1;31m  --data-dir     show Jupyter data dir\n",
            "\u001b[1;31m  --runtime-dir  show Jupyter runtime dir\n",
            "\u001b[1;31m  --paths        show all Jupyter paths. Add --json for machine-readable\n",
            "\u001b[1;31m                 format.\n",
            "\u001b[1;31m  --json         output paths as machine-readable json\n",
            "\u001b[1;31m  --debug        output debug information about paths\n",
            "\u001b[1;31m\n",
            "\u001b[1;31mAvailable subcommands:\n",
            "\u001b[1;31m\n",
            "\u001b[1;31mJupyter command `jupyter-notebook` not found. \n",
            "\u001b[1;31mView Jupyter <a href='command:jupyter.viewOutput'>log</a> for further details."
          ]
        }
      ],
      "source": [
        "quantities_sold_list = [17, 40, 1]\n",
        "print(quantities_sold_list)"
      ]
    },
    {
      "cell_type": "markdown",
      "metadata": {
        "id": "XC1qc8Z7Xb27"
      },
      "source": [
        "### Calculating the Sales"
      ]
    },
    {
      "cell_type": "markdown",
      "metadata": {
        "id": "CIo2OJTEJnDU"
      },
      "source": [
        "You should now have:\n",
        "- a list called `names` that contains 'brownie', 'cookie', 'cake'\n",
        "-  a list called `prices` that contains 2,1,10.\n",
        "- a list called `quantity_sold` that contains 17, 40, 1.\n",
        "\n",
        "\n",
        "We want to calculate the total money earned from each of the baked goods so far. We simply need to multiple each price by the corresponding quanity sold. \n"
      ]
    },
    {
      "cell_type": "code",
      "execution_count": null,
      "metadata": {
        "colab": {
          "base_uri": "https://localhost:8080/",
          "height": 182
        },
        "id": "TZmJEZ_VYLMN",
        "outputId": "6a2fcf45-e489-4233-ed49-9a40d1781483"
      },
      "outputs": [
        {
          "ename": "",
          "evalue": "",
          "output_type": "error",
          "traceback": [
            "\u001b[1;31mFailed to start the Kernel. \n",
            "\u001b[1;31mJupyter server crashed. Unable to connect. \n",
            "\u001b[1;31mError code from Jupyter: 1\n",
            "\u001b[1;31musage: jupyter.py [-h] [--version] [--config-dir] [--data-dir] [--runtime-dir]\n",
            "\u001b[1;31m                  [--paths] [--json] [--debug]\n",
            "\u001b[1;31m                  [subcommand]\n",
            "\u001b[1;31m\n",
            "\u001b[1;31mJupyter: Interactive Computing\n",
            "\u001b[1;31m\n",
            "\u001b[1;31mpositional arguments:\n",
            "\u001b[1;31m  subcommand     the subcommand to launch\n",
            "\u001b[1;31m\n",
            "\u001b[1;31moptions:\n",
            "\u001b[1;31m  -h, --help     show this help message and exit\n",
            "\u001b[1;31m  --version      show the versions of core jupyter packages and exit\n",
            "\u001b[1;31m  --config-dir   show Jupyter config dir\n",
            "\u001b[1;31m  --data-dir     show Jupyter data dir\n",
            "\u001b[1;31m  --runtime-dir  show Jupyter runtime dir\n",
            "\u001b[1;31m  --paths        show all Jupyter paths. Add --json for machine-readable\n",
            "\u001b[1;31m                 format.\n",
            "\u001b[1;31m  --json         output paths as machine-readable json\n",
            "\u001b[1;31m  --debug        output debug information about paths\n",
            "\u001b[1;31m\n",
            "\u001b[1;31mAvailable subcommands:\n",
            "\u001b[1;31m\n",
            "\u001b[1;31mJupyter command `jupyter-notebook` not found. \n",
            "\u001b[1;31mView Jupyter <a href='command:jupyter.viewOutput'>log</a> for further details."
          ]
        }
      ],
      "source": [
        "print(prices_list * quantities_sold_list)"
      ]
    },
    {
      "cell_type": "markdown",
      "metadata": {
        "id": "-l6Qp0iLCDJO"
      },
      "source": [
        "##  Creating a NumPy Array\n"
      ]
    },
    {
      "cell_type": "code",
      "execution_count": null,
      "metadata": {
        "id": "acvzeajlAUVW"
      },
      "outputs": [
        {
          "ename": "",
          "evalue": "",
          "output_type": "error",
          "traceback": [
            "\u001b[1;31mFailed to start the Kernel. \n",
            "\u001b[1;31mJupyter server crashed. Unable to connect. \n",
            "\u001b[1;31mError code from Jupyter: 1\n",
            "\u001b[1;31musage: jupyter.py [-h] [--version] [--config-dir] [--data-dir] [--runtime-dir]\n",
            "\u001b[1;31m                  [--paths] [--json] [--debug]\n",
            "\u001b[1;31m                  [subcommand]\n",
            "\u001b[1;31m\n",
            "\u001b[1;31mJupyter: Interactive Computing\n",
            "\u001b[1;31m\n",
            "\u001b[1;31mpositional arguments:\n",
            "\u001b[1;31m  subcommand     the subcommand to launch\n",
            "\u001b[1;31m\n",
            "\u001b[1;31moptions:\n",
            "\u001b[1;31m  -h, --help     show this help message and exit\n",
            "\u001b[1;31m  --version      show the versions of core jupyter packages and exit\n",
            "\u001b[1;31m  --config-dir   show Jupyter config dir\n",
            "\u001b[1;31m  --data-dir     show Jupyter data dir\n",
            "\u001b[1;31m  --runtime-dir  show Jupyter runtime dir\n",
            "\u001b[1;31m  --paths        show all Jupyter paths. Add --json for machine-readable\n",
            "\u001b[1;31m                 format.\n",
            "\u001b[1;31m  --json         output paths as machine-readable json\n",
            "\u001b[1;31m  --debug        output debug information about paths\n",
            "\u001b[1;31m\n",
            "\u001b[1;31mAvailable subcommands:\n",
            "\u001b[1;31m\n",
            "\u001b[1;31mJupyter command `jupyter-notebook` not found. \n",
            "\u001b[1;31mView Jupyter <a href='command:jupyter.viewOutput'>log</a> for further details."
          ]
        }
      ],
      "source": [
        "import numpy as np"
      ]
    },
    {
      "cell_type": "markdown",
      "metadata": {
        "id": "1dMt45SFV2Uu"
      },
      "source": [
        "### Converting Our Lists to 1-dimensional Arrays"
      ]
    },
    {
      "cell_type": "markdown",
      "metadata": {
        "id": "fXBNCj8VV0dp"
      },
      "source": [
        "\n",
        "\n",
        "You can use the function `np.array()` to change a Python collection into a NumPy array.\n",
        "\n",
        "- Create new numpy array versions of the `prices_list`, `quantities_sold_list`, and `names_list`.\n",
        "    - We can drop the `_list` from the names of our new variables.\n",
        "- Print each of them\n",
        "\n",
        "The result should look like a list with no commas."
      ]
    },
    {
      "cell_type": "code",
      "execution_count": null,
      "metadata": {
        "colab": {
          "base_uri": "https://localhost:8080/"
        },
        "id": "kmeAiZNnCbKk",
        "outputId": "8fa66377-b02d-48c2-d0ab-251698bbd3e4"
      },
      "outputs": [
        {
          "ename": "",
          "evalue": "",
          "output_type": "error",
          "traceback": [
            "\u001b[1;31mFailed to start the Kernel. \n",
            "\u001b[1;31mJupyter server crashed. Unable to connect. \n",
            "\u001b[1;31mError code from Jupyter: 1\n",
            "\u001b[1;31musage: jupyter.py [-h] [--version] [--config-dir] [--data-dir] [--runtime-dir]\n",
            "\u001b[1;31m                  [--paths] [--json] [--debug]\n",
            "\u001b[1;31m                  [subcommand]\n",
            "\u001b[1;31m\n",
            "\u001b[1;31mJupyter: Interactive Computing\n",
            "\u001b[1;31m\n",
            "\u001b[1;31mpositional arguments:\n",
            "\u001b[1;31m  subcommand     the subcommand to launch\n",
            "\u001b[1;31m\n",
            "\u001b[1;31moptions:\n",
            "\u001b[1;31m  -h, --help     show this help message and exit\n",
            "\u001b[1;31m  --version      show the versions of core jupyter packages and exit\n",
            "\u001b[1;31m  --config-dir   show Jupyter config dir\n",
            "\u001b[1;31m  --data-dir     show Jupyter data dir\n",
            "\u001b[1;31m  --runtime-dir  show Jupyter runtime dir\n",
            "\u001b[1;31m  --paths        show all Jupyter paths. Add --json for machine-readable\n",
            "\u001b[1;31m                 format.\n",
            "\u001b[1;31m  --json         output paths as machine-readable json\n",
            "\u001b[1;31m  --debug        output debug information about paths\n",
            "\u001b[1;31m\n",
            "\u001b[1;31mAvailable subcommands:\n",
            "\u001b[1;31m\n",
            "\u001b[1;31mJupyter command `jupyter-notebook` not found. \n",
            "\u001b[1;31mView Jupyter <a href='command:jupyter.viewOutput'>log</a> for further details."
          ]
        }
      ],
      "source": [
        "names = np.array(names_list)\n",
        "print(names)\n",
        "\n",
        "\n",
        "prices = np.array(prices_list)\n",
        "print(prices)\n",
        "\n",
        "quantities_sold = np.array(quantities_sold_list)\n",
        "print(quantities_sold)"
      ]
    },
    {
      "cell_type": "markdown",
      "metadata": {
        "id": "e-0waIaCKSNV"
      },
      "source": [
        "\n",
        "\n",
        "Arrays are ordered and mutable, just like lists, but they are faster to and more efficient to store in memory.\n"
      ]
    },
    {
      "cell_type": "markdown",
      "metadata": {
        "id": "t0uSS3fIY8P_"
      },
      "source": [
        "### Arrays can be multiplied\n"
      ]
    },
    {
      "cell_type": "markdown",
      "metadata": {
        "id": "w75-ySRXjeZc"
      },
      "source": [
        "\n",
        "#### Calculating Our Sales (For real this time!)"
      ]
    },
    {
      "cell_type": "code",
      "execution_count": null,
      "metadata": {
        "colab": {
          "base_uri": "https://localhost:8080/"
        },
        "id": "2CSkh9UUZMHu",
        "outputId": "c43a60a5-484c-4212-da6e-bef37b189a29"
      },
      "outputs": [
        {
          "ename": "",
          "evalue": "",
          "output_type": "error",
          "traceback": [
            "\u001b[1;31mFailed to start the Kernel. \n",
            "\u001b[1;31mJupyter server crashed. Unable to connect. \n",
            "\u001b[1;31mError code from Jupyter: 1\n",
            "\u001b[1;31musage: jupyter.py [-h] [--version] [--config-dir] [--data-dir] [--runtime-dir]\n",
            "\u001b[1;31m                  [--paths] [--json] [--debug]\n",
            "\u001b[1;31m                  [subcommand]\n",
            "\u001b[1;31m\n",
            "\u001b[1;31mJupyter: Interactive Computing\n",
            "\u001b[1;31m\n",
            "\u001b[1;31mpositional arguments:\n",
            "\u001b[1;31m  subcommand     the subcommand to launch\n",
            "\u001b[1;31m\n",
            "\u001b[1;31moptions:\n",
            "\u001b[1;31m  -h, --help     show this help message and exit\n",
            "\u001b[1;31m  --version      show the versions of core jupyter packages and exit\n",
            "\u001b[1;31m  --config-dir   show Jupyter config dir\n",
            "\u001b[1;31m  --data-dir     show Jupyter data dir\n",
            "\u001b[1;31m  --runtime-dir  show Jupyter runtime dir\n",
            "\u001b[1;31m  --paths        show all Jupyter paths. Add --json for machine-readable\n",
            "\u001b[1;31m                 format.\n",
            "\u001b[1;31m  --json         output paths as machine-readable json\n",
            "\u001b[1;31m  --debug        output debug information about paths\n",
            "\u001b[1;31m\n",
            "\u001b[1;31mAvailable subcommands:\n",
            "\u001b[1;31m\n",
            "\u001b[1;31mJupyter command `jupyter-notebook` not found. \n",
            "\u001b[1;31mView Jupyter <a href='command:jupyter.viewOutput'>log</a> for further details."
          ]
        }
      ],
      "source": [
        "prices * quantities_sold"
      ]
    },
    {
      "cell_type": "markdown",
      "metadata": {
        "id": "rVodLeHtZY5w"
      },
      "source": [
        "## 4) Elementwise Calculations\n"
      ]
    },
    {
      "cell_type": "markdown",
      "metadata": {
        "id": "GlPZVefyjsbq"
      },
      "source": [
        "\n",
        "As you saw anobe we calcualted the revenue for each bake good so far, the multiplication was applied between the first element of each array, then between the second element of each array, and so on.   This is known as an ***\"elementwise\" calculation***.  \n",
        "\n",
        "\n",
        "\n",
        "Let's look at another example of elementwise calculations by factoring in the cost to make each baked good.\n",
        "\n",
        "\n"
      ]
    },
    {
      "cell_type": "markdown",
      "metadata": {
        "id": "BXb1pd3jZvlx"
      },
      "source": [
        "#### Accounting for Costs"
      ]
    },
    {
      "cell_type": "markdown",
      "metadata": {
        "id": "XbxdvuMGZvBM"
      },
      "source": [
        "The club wants to account for the cost of each baked good so that we can calculate the revenue for each baked good (Revenue = profit - cost).\n",
        "\n",
        "The cost to make each baked good is:\n",
        "- a brownie costs \\$0.25 to make.\n",
        "- a cookie costs \\$0.50 to make.\n",
        "- a cake costs \\$5.00 to make.\n"
      ]
    },
    {
      "cell_type": "markdown",
      "metadata": {
        "id": "FBxtXZnSaUqw"
      },
      "source": [
        "\n",
        "Now, let's create an array that corresponds to the cost to make each of the items sold at the bake sale.\n"
      ]
    },
    {
      "cell_type": "code",
      "execution_count": null,
      "metadata": {
        "colab": {
          "base_uri": "https://localhost:8080/"
        },
        "id": "MGawdexsahjT",
        "outputId": "af8e08eb-6845-4a69-e98f-6d9c1f92acf2"
      },
      "outputs": [
        {
          "ename": "",
          "evalue": "",
          "output_type": "error",
          "traceback": [
            "\u001b[1;31mFailed to start the Kernel. \n",
            "\u001b[1;31mJupyter server crashed. Unable to connect. \n",
            "\u001b[1;31mError code from Jupyter: 1\n",
            "\u001b[1;31musage: jupyter.py [-h] [--version] [--config-dir] [--data-dir] [--runtime-dir]\n",
            "\u001b[1;31m                  [--paths] [--json] [--debug]\n",
            "\u001b[1;31m                  [subcommand]\n",
            "\u001b[1;31m\n",
            "\u001b[1;31mJupyter: Interactive Computing\n",
            "\u001b[1;31m\n",
            "\u001b[1;31mpositional arguments:\n",
            "\u001b[1;31m  subcommand     the subcommand to launch\n",
            "\u001b[1;31m\n",
            "\u001b[1;31moptions:\n",
            "\u001b[1;31m  -h, --help     show this help message and exit\n",
            "\u001b[1;31m  --version      show the versions of core jupyter packages and exit\n",
            "\u001b[1;31m  --config-dir   show Jupyter config dir\n",
            "\u001b[1;31m  --data-dir     show Jupyter data dir\n",
            "\u001b[1;31m  --runtime-dir  show Jupyter runtime dir\n",
            "\u001b[1;31m  --paths        show all Jupyter paths. Add --json for machine-readable\n",
            "\u001b[1;31m                 format.\n",
            "\u001b[1;31m  --json         output paths as machine-readable json\n",
            "\u001b[1;31m  --debug        output debug information about paths\n",
            "\u001b[1;31m\n",
            "\u001b[1;31mAvailable subcommands:\n",
            "\u001b[1;31m\n",
            "\u001b[1;31mJupyter command `jupyter-notebook` not found. \n",
            "\u001b[1;31mView Jupyter <a href='command:jupyter.viewOutput'>log</a> for further details."
          ]
        }
      ],
      "source": [
        "cost_list = [0.25, 0.50, 5.00]\n",
        "costs = np.array(cost_list)\n",
        "print(costs)"
      ]
    },
    {
      "cell_type": "markdown",
      "metadata": {
        "id": "GxjE1Bsh4E0X"
      },
      "source": [
        "- Note: we can actually do this in 1 step by creating our list inside of np.array instead of saving it as a separate varaible first."
      ]
    },
    {
      "cell_type": "code",
      "execution_count": null,
      "metadata": {
        "colab": {
          "base_uri": "https://localhost:8080/"
        },
        "id": "qK2EK7EA4M5R",
        "outputId": "9195a9a3-4c3a-4e03-a626-5d27cb8b9834"
      },
      "outputs": [
        {
          "ename": "",
          "evalue": "",
          "output_type": "error",
          "traceback": [
            "\u001b[1;31mFailed to start the Kernel. \n",
            "\u001b[1;31mJupyter server crashed. Unable to connect. \n",
            "\u001b[1;31mError code from Jupyter: 1\n",
            "\u001b[1;31musage: jupyter.py [-h] [--version] [--config-dir] [--data-dir] [--runtime-dir]\n",
            "\u001b[1;31m                  [--paths] [--json] [--debug]\n",
            "\u001b[1;31m                  [subcommand]\n",
            "\u001b[1;31m\n",
            "\u001b[1;31mJupyter: Interactive Computing\n",
            "\u001b[1;31m\n",
            "\u001b[1;31mpositional arguments:\n",
            "\u001b[1;31m  subcommand     the subcommand to launch\n",
            "\u001b[1;31m\n",
            "\u001b[1;31moptions:\n",
            "\u001b[1;31m  -h, --help     show this help message and exit\n",
            "\u001b[1;31m  --version      show the versions of core jupyter packages and exit\n",
            "\u001b[1;31m  --config-dir   show Jupyter config dir\n",
            "\u001b[1;31m  --data-dir     show Jupyter data dir\n",
            "\u001b[1;31m  --runtime-dir  show Jupyter runtime dir\n",
            "\u001b[1;31m  --paths        show all Jupyter paths. Add --json for machine-readable\n",
            "\u001b[1;31m                 format.\n",
            "\u001b[1;31m  --json         output paths as machine-readable json\n",
            "\u001b[1;31m  --debug        output debug information about paths\n",
            "\u001b[1;31m\n",
            "\u001b[1;31mAvailable subcommands:\n",
            "\u001b[1;31m\n",
            "\u001b[1;31mJupyter command `jupyter-notebook` not found. \n",
            "\u001b[1;31mView Jupyter <a href='command:jupyter.viewOutput'>log</a> for further details."
          ]
        }
      ],
      "source": [
        "expenses = np.array([0.25, 0.50, 5.00])\n",
        "print(expenses)"
      ]
    },
    {
      "cell_type": "markdown",
      "metadata": {
        "id": "t1pPAw24j_W2"
      },
      "source": [
        "### Calculating Profits "
      ]
    },
    {
      "cell_type": "markdown",
      "metadata": {
        "id": "28lF8qRFkAV1"
      },
      "source": [
        "- To find the profit of each baked good, we want to subtract the cost from the price. \n"
      ]
    },
    {
      "cell_type": "code",
      "execution_count": null,
      "metadata": {
        "colab": {
          "base_uri": "https://localhost:8080/"
        },
        "id": "hjJTmg-3ahhQ",
        "outputId": "17a827fb-53bf-44c4-a59f-b2e007125bb9"
      },
      "outputs": [
        {
          "ename": "",
          "evalue": "",
          "output_type": "error",
          "traceback": [
            "\u001b[1;31mFailed to start the Kernel. \n",
            "\u001b[1;31mJupyter server crashed. Unable to connect. \n",
            "\u001b[1;31mError code from Jupyter: 1\n",
            "\u001b[1;31musage: jupyter.py [-h] [--version] [--config-dir] [--data-dir] [--runtime-dir]\n",
            "\u001b[1;31m                  [--paths] [--json] [--debug]\n",
            "\u001b[1;31m                  [subcommand]\n",
            "\u001b[1;31m\n",
            "\u001b[1;31mJupyter: Interactive Computing\n",
            "\u001b[1;31m\n",
            "\u001b[1;31mpositional arguments:\n",
            "\u001b[1;31m  subcommand     the subcommand to launch\n",
            "\u001b[1;31m\n",
            "\u001b[1;31moptions:\n",
            "\u001b[1;31m  -h, --help     show this help message and exit\n",
            "\u001b[1;31m  --version      show the versions of core jupyter packages and exit\n",
            "\u001b[1;31m  --config-dir   show Jupyter config dir\n",
            "\u001b[1;31m  --data-dir     show Jupyter data dir\n",
            "\u001b[1;31m  --runtime-dir  show Jupyter runtime dir\n",
            "\u001b[1;31m  --paths        show all Jupyter paths. Add --json for machine-readable\n",
            "\u001b[1;31m                 format.\n",
            "\u001b[1;31m  --json         output paths as machine-readable json\n",
            "\u001b[1;31m  --debug        output debug information about paths\n",
            "\u001b[1;31m\n",
            "\u001b[1;31mAvailable subcommands:\n",
            "\u001b[1;31m\n",
            "\u001b[1;31mJupyter command `jupyter-notebook` not found. \n",
            "\u001b[1;31mView Jupyter <a href='command:jupyter.viewOutput'>log</a> for further details."
          ]
        }
      ],
      "source": [
        "profits = prices - expenses\n",
        "profits"
      ]
    },
    {
      "cell_type": "markdown",
      "metadata": {
        "id": "NlM95vONnJ5n"
      },
      "source": [
        "## 5) Appending, Deleting, and Replacing Elements in a NumPy "
      ]
    },
    {
      "cell_type": "markdown",
      "metadata": {
        "id": "trdkKaccnTw1"
      },
      "source": [
        "#### Appending\n"
      ]
    },
    {
      "cell_type": "markdown",
      "metadata": {
        "id": "ED8rG7XbnVwp"
      },
      "source": [
        "\n",
        "The club will also sell pies for $7 so we need to update our price_array.  \n",
        "\n",
        "Based on your experience with lists, ***you might think the following code would work*** to include an additional element to our array:  "
      ]
    },
    {
      "cell_type": "code",
      "execution_count": null,
      "metadata": {
        "colab": {
          "base_uri": "https://localhost:8080/"
        },
        "id": "nORxCKGGnTix",
        "outputId": "cef8fdbb-1c1c-4f77-c0b8-0347a0af868d"
      },
      "outputs": [
        {
          "ename": "",
          "evalue": "",
          "output_type": "error",
          "traceback": [
            "\u001b[1;31mFailed to start the Kernel. \n",
            "\u001b[1;31mJupyter server crashed. Unable to connect. \n",
            "\u001b[1;31mError code from Jupyter: 1\n",
            "\u001b[1;31musage: jupyter.py [-h] [--version] [--config-dir] [--data-dir] [--runtime-dir]\n",
            "\u001b[1;31m                  [--paths] [--json] [--debug]\n",
            "\u001b[1;31m                  [subcommand]\n",
            "\u001b[1;31m\n",
            "\u001b[1;31mJupyter: Interactive Computing\n",
            "\u001b[1;31m\n",
            "\u001b[1;31mpositional arguments:\n",
            "\u001b[1;31m  subcommand     the subcommand to launch\n",
            "\u001b[1;31m\n",
            "\u001b[1;31moptions:\n",
            "\u001b[1;31m  -h, --help     show this help message and exit\n",
            "\u001b[1;31m  --version      show the versions of core jupyter packages and exit\n",
            "\u001b[1;31m  --config-dir   show Jupyter config dir\n",
            "\u001b[1;31m  --data-dir     show Jupyter data dir\n",
            "\u001b[1;31m  --runtime-dir  show Jupyter runtime dir\n",
            "\u001b[1;31m  --paths        show all Jupyter paths. Add --json for machine-readable\n",
            "\u001b[1;31m                 format.\n",
            "\u001b[1;31m  --json         output paths as machine-readable json\n",
            "\u001b[1;31m  --debug        output debug information about paths\n",
            "\u001b[1;31m\n",
            "\u001b[1;31mAvailable subcommands:\n",
            "\u001b[1;31m\n",
            "\u001b[1;31mJupyter command `jupyter-notebook` not found. \n",
            "\u001b[1;31mView Jupyter <a href='command:jupyter.viewOutput'>log</a> for further details."
          ]
        }
      ],
      "source": [
        "prices = prices + [7]\n",
        "prices"
      ]
    },
    {
      "cell_type": "markdown",
      "metadata": {
        "id": "TUfla5CKsKig"
      },
      "source": [
        "Wait! This is **not** the output we wanted!   The NumPy array did what it does best: it added seven to *each element* in the array.  \n",
        "\n",
        "To get back to the original values, we will subtract 7, then use the np.append() function to include the value 7 as desired."
      ]
    },
    {
      "cell_type": "code",
      "execution_count": null,
      "metadata": {
        "colab": {
          "base_uri": "https://localhost:8080/"
        },
        "id": "9LZsXnqfsKW1",
        "outputId": "02671369-3805-410a-d557-b621fafc68c7"
      },
      "outputs": [
        {
          "ename": "",
          "evalue": "",
          "output_type": "error",
          "traceback": [
            "\u001b[1;31mFailed to start the Kernel. \n",
            "\u001b[1;31mJupyter server crashed. Unable to connect. \n",
            "\u001b[1;31mError code from Jupyter: 1\n",
            "\u001b[1;31musage: jupyter.py [-h] [--version] [--config-dir] [--data-dir] [--runtime-dir]\n",
            "\u001b[1;31m                  [--paths] [--json] [--debug]\n",
            "\u001b[1;31m                  [subcommand]\n",
            "\u001b[1;31m\n",
            "\u001b[1;31mJupyter: Interactive Computing\n",
            "\u001b[1;31m\n",
            "\u001b[1;31mpositional arguments:\n",
            "\u001b[1;31m  subcommand     the subcommand to launch\n",
            "\u001b[1;31m\n",
            "\u001b[1;31moptions:\n",
            "\u001b[1;31m  -h, --help     show this help message and exit\n",
            "\u001b[1;31m  --version      show the versions of core jupyter packages and exit\n",
            "\u001b[1;31m  --config-dir   show Jupyter config dir\n",
            "\u001b[1;31m  --data-dir     show Jupyter data dir\n",
            "\u001b[1;31m  --runtime-dir  show Jupyter runtime dir\n",
            "\u001b[1;31m  --paths        show all Jupyter paths. Add --json for machine-readable\n",
            "\u001b[1;31m                 format.\n",
            "\u001b[1;31m  --json         output paths as machine-readable json\n",
            "\u001b[1;31m  --debug        output debug information about paths\n",
            "\u001b[1;31m\n",
            "\u001b[1;31mAvailable subcommands:\n",
            "\u001b[1;31m\n",
            "\u001b[1;31mJupyter command `jupyter-notebook` not found. \n",
            "\u001b[1;31mView Jupyter <a href='command:jupyter.viewOutput'>log</a> for further details."
          ]
        }
      ],
      "source": [
        "# Just fixing the mistake\n",
        "prices = prices - [7]\n",
        "prices"
      ]
    },
    {
      "cell_type": "code",
      "execution_count": null,
      "metadata": {
        "colab": {
          "base_uri": "https://localhost:8080/"
        },
        "id": "2RHe95jZs2IA",
        "outputId": "6bf442ca-2fc7-473e-8e71-e78a3958799f"
      },
      "outputs": [
        {
          "ename": "",
          "evalue": "",
          "output_type": "error",
          "traceback": [
            "\u001b[1;31mFailed to start the Kernel. \n",
            "\u001b[1;31mJupyter server crashed. Unable to connect. \n",
            "\u001b[1;31mError code from Jupyter: 1\n",
            "\u001b[1;31musage: jupyter.py [-h] [--version] [--config-dir] [--data-dir] [--runtime-dir]\n",
            "\u001b[1;31m                  [--paths] [--json] [--debug]\n",
            "\u001b[1;31m                  [subcommand]\n",
            "\u001b[1;31m\n",
            "\u001b[1;31mJupyter: Interactive Computing\n",
            "\u001b[1;31m\n",
            "\u001b[1;31mpositional arguments:\n",
            "\u001b[1;31m  subcommand     the subcommand to launch\n",
            "\u001b[1;31m\n",
            "\u001b[1;31moptions:\n",
            "\u001b[1;31m  -h, --help     show this help message and exit\n",
            "\u001b[1;31m  --version      show the versions of core jupyter packages and exit\n",
            "\u001b[1;31m  --config-dir   show Jupyter config dir\n",
            "\u001b[1;31m  --data-dir     show Jupyter data dir\n",
            "\u001b[1;31m  --runtime-dir  show Jupyter runtime dir\n",
            "\u001b[1;31m  --paths        show all Jupyter paths. Add --json for machine-readable\n",
            "\u001b[1;31m                 format.\n",
            "\u001b[1;31m  --json         output paths as machine-readable json\n",
            "\u001b[1;31m  --debug        output debug information about paths\n",
            "\u001b[1;31m\n",
            "\u001b[1;31mAvailable subcommands:\n",
            "\u001b[1;31m\n",
            "\u001b[1;31mJupyter command `jupyter-notebook` not found. \n",
            "\u001b[1;31mView Jupyter <a href='command:jupyter.viewOutput'>log</a> for further details."
          ]
        }
      ],
      "source": [
        "# The proper way to append an element to an array\n",
        "prices = np.append(prices, 7)\n",
        "prices"
      ]
    },
    {
      "cell_type": "markdown",
      "metadata": {
        "id": "CpebBDAntB4p"
      },
      "source": [
        "- Let's also append the name for our new baked good to our names array."
      ]
    },
    {
      "cell_type": "code",
      "execution_count": null,
      "metadata": {
        "colab": {
          "base_uri": "https://localhost:8080/"
        },
        "id": "dau7ny5TtJkW",
        "outputId": "336f1382-be68-407d-e7f8-27e3fce5c551"
      },
      "outputs": [
        {
          "ename": "",
          "evalue": "",
          "output_type": "error",
          "traceback": [
            "\u001b[1;31mFailed to start the Kernel. \n",
            "\u001b[1;31mJupyter server crashed. Unable to connect. \n",
            "\u001b[1;31mError code from Jupyter: 1\n",
            "\u001b[1;31musage: jupyter.py [-h] [--version] [--config-dir] [--data-dir] [--runtime-dir]\n",
            "\u001b[1;31m                  [--paths] [--json] [--debug]\n",
            "\u001b[1;31m                  [subcommand]\n",
            "\u001b[1;31m\n",
            "\u001b[1;31mJupyter: Interactive Computing\n",
            "\u001b[1;31m\n",
            "\u001b[1;31mpositional arguments:\n",
            "\u001b[1;31m  subcommand     the subcommand to launch\n",
            "\u001b[1;31m\n",
            "\u001b[1;31moptions:\n",
            "\u001b[1;31m  -h, --help     show this help message and exit\n",
            "\u001b[1;31m  --version      show the versions of core jupyter packages and exit\n",
            "\u001b[1;31m  --config-dir   show Jupyter config dir\n",
            "\u001b[1;31m  --data-dir     show Jupyter data dir\n",
            "\u001b[1;31m  --runtime-dir  show Jupyter runtime dir\n",
            "\u001b[1;31m  --paths        show all Jupyter paths. Add --json for machine-readable\n",
            "\u001b[1;31m                 format.\n",
            "\u001b[1;31m  --json         output paths as machine-readable json\n",
            "\u001b[1;31m  --debug        output debug information about paths\n",
            "\u001b[1;31m\n",
            "\u001b[1;31mAvailable subcommands:\n",
            "\u001b[1;31m\n",
            "\u001b[1;31mJupyter command `jupyter-notebook` not found. \n",
            "\u001b[1;31mView Jupyter <a href='command:jupyter.viewOutput'>log</a> for further details."
          ]
        }
      ],
      "source": [
        "names = np.append(names, 'pie')\n",
        "names"
      ]
    },
    {
      "cell_type": "markdown",
      "metadata": {
        "id": "EOuJBaz_tasY"
      },
      "source": [
        "##### Appending Multiple Elements at Once\n",
        "\n",
        "You can also append multiple values to the array in one command.  \n",
        "\n",
        "For example, the club want to add the following prices:  \n",
        "  - \\$4.50 for fudge\n",
        "  - \\$3 for a cupcake\n",
        "  - \\$4 for a loaf of banana bread\n",
        "  - \\$9 for a torte. \n",
        "  \n",
        "Notice the use of the square brackets in the following code that appends all four values to the array at once:"
      ]
    },
    {
      "cell_type": "code",
      "execution_count": null,
      "metadata": {
        "colab": {
          "base_uri": "https://localhost:8080/"
        },
        "id": "bWRXeqc5tqJs",
        "outputId": "c833bb58-f8b2-48a0-f6ee-8821b3449fde"
      },
      "outputs": [
        {
          "ename": "",
          "evalue": "",
          "output_type": "error",
          "traceback": [
            "\u001b[1;31mFailed to start the Kernel. \n",
            "\u001b[1;31mJupyter server crashed. Unable to connect. \n",
            "\u001b[1;31mError code from Jupyter: 1\n",
            "\u001b[1;31musage: jupyter.py [-h] [--version] [--config-dir] [--data-dir] [--runtime-dir]\n",
            "\u001b[1;31m                  [--paths] [--json] [--debug]\n",
            "\u001b[1;31m                  [subcommand]\n",
            "\u001b[1;31m\n",
            "\u001b[1;31mJupyter: Interactive Computing\n",
            "\u001b[1;31m\n",
            "\u001b[1;31mpositional arguments:\n",
            "\u001b[1;31m  subcommand     the subcommand to launch\n",
            "\u001b[1;31m\n",
            "\u001b[1;31moptions:\n",
            "\u001b[1;31m  -h, --help     show this help message and exit\n",
            "\u001b[1;31m  --version      show the versions of core jupyter packages and exit\n",
            "\u001b[1;31m  --config-dir   show Jupyter config dir\n",
            "\u001b[1;31m  --data-dir     show Jupyter data dir\n",
            "\u001b[1;31m  --runtime-dir  show Jupyter runtime dir\n",
            "\u001b[1;31m  --paths        show all Jupyter paths. Add --json for machine-readable\n",
            "\u001b[1;31m                 format.\n",
            "\u001b[1;31m  --json         output paths as machine-readable json\n",
            "\u001b[1;31m  --debug        output debug information about paths\n",
            "\u001b[1;31m\n",
            "\u001b[1;31mAvailable subcommands:\n",
            "\u001b[1;31m\n",
            "\u001b[1;31mJupyter command `jupyter-notebook` not found. \n",
            "\u001b[1;31mView Jupyter <a href='command:jupyter.viewOutput'>log</a> for further details."
          ]
        }
      ],
      "source": [
        "prices = np.append(prices, [4.50, 3, 4, 9])\n",
        "prices"
      ]
    },
    {
      "cell_type": "markdown",
      "metadata": {
        "id": "UxHvF_e6ttbW"
      },
      "source": [
        "- Now let's append the new baked good's names to our names array."
      ]
    },
    {
      "cell_type": "code",
      "execution_count": null,
      "metadata": {
        "colab": {
          "base_uri": "https://localhost:8080/"
        },
        "id": "o3iARwB5twUx",
        "outputId": "4974291a-49c5-4017-8d44-5050961c8749"
      },
      "outputs": [
        {
          "ename": "",
          "evalue": "",
          "output_type": "error",
          "traceback": [
            "\u001b[1;31mFailed to start the Kernel. \n",
            "\u001b[1;31mJupyter server crashed. Unable to connect. \n",
            "\u001b[1;31mError code from Jupyter: 1\n",
            "\u001b[1;31musage: jupyter.py [-h] [--version] [--config-dir] [--data-dir] [--runtime-dir]\n",
            "\u001b[1;31m                  [--paths] [--json] [--debug]\n",
            "\u001b[1;31m                  [subcommand]\n",
            "\u001b[1;31m\n",
            "\u001b[1;31mJupyter: Interactive Computing\n",
            "\u001b[1;31m\n",
            "\u001b[1;31mpositional arguments:\n",
            "\u001b[1;31m  subcommand     the subcommand to launch\n",
            "\u001b[1;31m\n",
            "\u001b[1;31moptions:\n",
            "\u001b[1;31m  -h, --help     show this help message and exit\n",
            "\u001b[1;31m  --version      show the versions of core jupyter packages and exit\n",
            "\u001b[1;31m  --config-dir   show Jupyter config dir\n",
            "\u001b[1;31m  --data-dir     show Jupyter data dir\n",
            "\u001b[1;31m  --runtime-dir  show Jupyter runtime dir\n",
            "\u001b[1;31m  --paths        show all Jupyter paths. Add --json for machine-readable\n",
            "\u001b[1;31m                 format.\n",
            "\u001b[1;31m  --json         output paths as machine-readable json\n",
            "\u001b[1;31m  --debug        output debug information about paths\n",
            "\u001b[1;31m\n",
            "\u001b[1;31mAvailable subcommands:\n",
            "\u001b[1;31m\n",
            "\u001b[1;31mJupyter command `jupyter-notebook` not found. \n",
            "\u001b[1;31mView Jupyter <a href='command:jupyter.viewOutput'>log</a> for further details."
          ]
        }
      ],
      "source": [
        "names = np.append(names, ['fudge','cupcake','banana bread','torte'])\n",
        "names"
      ]
    },
    {
      "cell_type": "markdown",
      "metadata": {
        "id": "4QhmxbWkuE9K"
      },
      "source": [
        "### Deleting\n"
      ]
    },
    {
      "cell_type": "markdown",
      "metadata": {
        "id": "FrsOiTi-uMZr"
      },
      "source": [
        "\n",
        "It turns out nobody plans to make a torte, so they want to remove the price of that item from the prices array and its name from the names array.\n",
        "\n",
        "\n",
        "We will use the np.delete() command, but we need to indicate which element to delete.  \n",
        "\n",
        "We use indexing (much the same as indexing for lists) to indicate we want to remove the element at index 7 (remember to use zero-indexing) or since it is the last element, we could go from the right and use element -1.  \n"
      ]
    },
    {
      "cell_type": "code",
      "execution_count": null,
      "metadata": {
        "colab": {
          "base_uri": "https://localhost:8080/",
          "height": 87
        },
        "id": "aLWTovETuS-5",
        "outputId": "d8bc5328-2c5e-45ac-e8aa-9d41774a17b3"
      },
      "outputs": [
        {
          "ename": "",
          "evalue": "",
          "output_type": "error",
          "traceback": [
            "\u001b[1;31mFailed to start the Kernel. \n",
            "\u001b[1;31mJupyter server crashed. Unable to connect. \n",
            "\u001b[1;31mError code from Jupyter: 1\n",
            "\u001b[1;31musage: jupyter.py [-h] [--version] [--config-dir] [--data-dir] [--runtime-dir]\n",
            "\u001b[1;31m                  [--paths] [--json] [--debug]\n",
            "\u001b[1;31m                  [subcommand]\n",
            "\u001b[1;31m\n",
            "\u001b[1;31mJupyter: Interactive Computing\n",
            "\u001b[1;31m\n",
            "\u001b[1;31mpositional arguments:\n",
            "\u001b[1;31m  subcommand     the subcommand to launch\n",
            "\u001b[1;31m\n",
            "\u001b[1;31moptions:\n",
            "\u001b[1;31m  -h, --help     show this help message and exit\n",
            "\u001b[1;31m  --version      show the versions of core jupyter packages and exit\n",
            "\u001b[1;31m  --config-dir   show Jupyter config dir\n",
            "\u001b[1;31m  --data-dir     show Jupyter data dir\n",
            "\u001b[1;31m  --runtime-dir  show Jupyter runtime dir\n",
            "\u001b[1;31m  --paths        show all Jupyter paths. Add --json for machine-readable\n",
            "\u001b[1;31m                 format.\n",
            "\u001b[1;31m  --json         output paths as machine-readable json\n",
            "\u001b[1;31m  --debug        output debug information about paths\n",
            "\u001b[1;31m\n",
            "\u001b[1;31mAvailable subcommands:\n",
            "\u001b[1;31m\n",
            "\u001b[1;31mJupyter command `jupyter-notebook` not found. \n",
            "\u001b[1;31mView Jupyter <a href='command:jupyter.viewOutput'>log</a> for further details."
          ]
        }
      ],
      "source": [
        "names = np.delete(names, -1)\n",
        "display(names)\n",
        "\n",
        "prices = np.delete(prices, -1)\n",
        "prices"
      ]
    },
    {
      "cell_type": "markdown",
      "metadata": {
        "id": "e2YqCUAIuUcM"
      },
      "source": [
        "\n",
        "### Replacing\n"
      ]
    },
    {
      "cell_type": "markdown",
      "metadata": {
        "id": "cqmATMozukMg"
      },
      "source": [
        "The club decided to raise the price of cakes from $10 to $12. We need to reflect this in our prices array.\n",
        "\n",
        "\n",
        "Once again, we will need to identify the element using the index.  Cakes are at index 2.\n"
      ]
    },
    {
      "cell_type": "code",
      "execution_count": null,
      "metadata": {
        "colab": {
          "base_uri": "https://localhost:8080/"
        },
        "id": "vRUE9C1fvD-z",
        "outputId": "3f25773a-8cea-4f22-cada-3f1cda996254"
      },
      "outputs": [
        {
          "ename": "",
          "evalue": "",
          "output_type": "error",
          "traceback": [
            "\u001b[1;31mFailed to start the Kernel. \n",
            "\u001b[1;31mJupyter server crashed. Unable to connect. \n",
            "\u001b[1;31mError code from Jupyter: 1\n",
            "\u001b[1;31musage: jupyter.py [-h] [--version] [--config-dir] [--data-dir] [--runtime-dir]\n",
            "\u001b[1;31m                  [--paths] [--json] [--debug]\n",
            "\u001b[1;31m                  [subcommand]\n",
            "\u001b[1;31m\n",
            "\u001b[1;31mJupyter: Interactive Computing\n",
            "\u001b[1;31m\n",
            "\u001b[1;31mpositional arguments:\n",
            "\u001b[1;31m  subcommand     the subcommand to launch\n",
            "\u001b[1;31m\n",
            "\u001b[1;31moptions:\n",
            "\u001b[1;31m  -h, --help     show this help message and exit\n",
            "\u001b[1;31m  --version      show the versions of core jupyter packages and exit\n",
            "\u001b[1;31m  --config-dir   show Jupyter config dir\n",
            "\u001b[1;31m  --data-dir     show Jupyter data dir\n",
            "\u001b[1;31m  --runtime-dir  show Jupyter runtime dir\n",
            "\u001b[1;31m  --paths        show all Jupyter paths. Add --json for machine-readable\n",
            "\u001b[1;31m                 format.\n",
            "\u001b[1;31m  --json         output paths as machine-readable json\n",
            "\u001b[1;31m  --debug        output debug information about paths\n",
            "\u001b[1;31m\n",
            "\u001b[1;31mAvailable subcommands:\n",
            "\u001b[1;31m\n",
            "\u001b[1;31mJupyter command `jupyter-notebook` not found. \n",
            "\u001b[1;31mView Jupyter <a href='command:jupyter.viewOutput'>log</a> for further details."
          ]
        }
      ],
      "source": [
        "print(names[2])\n",
        "prices[2]"
      ]
    },
    {
      "cell_type": "code",
      "execution_count": null,
      "metadata": {
        "colab": {
          "base_uri": "https://localhost:8080/"
        },
        "id": "mFQs0sNFutrI",
        "outputId": "392610cb-e40e-48e7-c66a-3146fd28efcd"
      },
      "outputs": [
        {
          "ename": "",
          "evalue": "",
          "output_type": "error",
          "traceback": [
            "\u001b[1;31mFailed to start the Kernel. \n",
            "\u001b[1;31mJupyter server crashed. Unable to connect. \n",
            "\u001b[1;31mError code from Jupyter: 1\n",
            "\u001b[1;31musage: jupyter.py [-h] [--version] [--config-dir] [--data-dir] [--runtime-dir]\n",
            "\u001b[1;31m                  [--paths] [--json] [--debug]\n",
            "\u001b[1;31m                  [subcommand]\n",
            "\u001b[1;31m\n",
            "\u001b[1;31mJupyter: Interactive Computing\n",
            "\u001b[1;31m\n",
            "\u001b[1;31mpositional arguments:\n",
            "\u001b[1;31m  subcommand     the subcommand to launch\n",
            "\u001b[1;31m\n",
            "\u001b[1;31moptions:\n",
            "\u001b[1;31m  -h, --help     show this help message and exit\n",
            "\u001b[1;31m  --version      show the versions of core jupyter packages and exit\n",
            "\u001b[1;31m  --config-dir   show Jupyter config dir\n",
            "\u001b[1;31m  --data-dir     show Jupyter data dir\n",
            "\u001b[1;31m  --runtime-dir  show Jupyter runtime dir\n",
            "\u001b[1;31m  --paths        show all Jupyter paths. Add --json for machine-readable\n",
            "\u001b[1;31m                 format.\n",
            "\u001b[1;31m  --json         output paths as machine-readable json\n",
            "\u001b[1;31m  --debug        output debug information about paths\n",
            "\u001b[1;31m\n",
            "\u001b[1;31mAvailable subcommands:\n",
            "\u001b[1;31m\n",
            "\u001b[1;31mJupyter command `jupyter-notebook` not found. \n",
            "\u001b[1;31mView Jupyter <a href='command:jupyter.viewOutput'>log</a> for further details."
          ]
        }
      ],
      "source": [
        "## updating prices for cakes at index 2\n",
        "prices[2] = 12\n",
        "\n",
        "print(names[2])\n",
        "prices[2]"
      ]
    },
    {
      "cell_type": "markdown",
      "metadata": {
        "id": "cCp6pY2CAVDv"
      },
      "source": [
        "# ✍️ **Assignment Starts Here**\n"
      ]
    },
    {
      "cell_type": "markdown",
      "metadata": {
        "id": "H9fW1eN2ByWE"
      },
      "source": [
        "- You can add as many code cells as you need (or delete any that you don't need).\n",
        "\n",
        "- **Make sure you've run all of the code before this cell.**\n",
        "  - To do so, click on this text cell and then on the toolbar menu:\n",
        "    - click on the `Runtime` menu\n",
        "    - select `Run before`."
      ]
    },
    {
      "cell_type": "markdown",
      "metadata": {
        "id": "RtVWhuH2E8MQ"
      },
      "source": [
        "1) Use the enumerate function to print out the index # and name of every baked good in your `names` array."
      ]
    },
    {
      "cell_type": "code",
      "execution_count": null,
      "metadata": {
        "colab": {
          "base_uri": "https://localhost:8080/"
        },
        "id": "F0lZs-NnFn2T",
        "outputId": "7dfe3d2b-1961-4fee-eb47-05cd6d5d5117"
      },
      "outputs": [
        {
          "ename": "",
          "evalue": "",
          "output_type": "error",
          "traceback": [
            "\u001b[1;31mFailed to start the Kernel. \n",
            "\u001b[1;31mJupyter server crashed. Unable to connect. \n",
            "\u001b[1;31mError code from Jupyter: 1\n",
            "\u001b[1;31musage: jupyter.py [-h] [--version] [--config-dir] [--data-dir] [--runtime-dir]\n",
            "\u001b[1;31m                  [--paths] [--json] [--debug]\n",
            "\u001b[1;31m                  [subcommand]\n",
            "\u001b[1;31m\n",
            "\u001b[1;31mJupyter: Interactive Computing\n",
            "\u001b[1;31m\n",
            "\u001b[1;31mpositional arguments:\n",
            "\u001b[1;31m  subcommand     the subcommand to launch\n",
            "\u001b[1;31m\n",
            "\u001b[1;31moptions:\n",
            "\u001b[1;31m  -h, --help     show this help message and exit\n",
            "\u001b[1;31m  --version      show the versions of core jupyter packages and exit\n",
            "\u001b[1;31m  --config-dir   show Jupyter config dir\n",
            "\u001b[1;31m  --data-dir     show Jupyter data dir\n",
            "\u001b[1;31m  --runtime-dir  show Jupyter runtime dir\n",
            "\u001b[1;31m  --paths        show all Jupyter paths. Add --json for machine-readable\n",
            "\u001b[1;31m                 format.\n",
            "\u001b[1;31m  --json         output paths as machine-readable json\n",
            "\u001b[1;31m  --debug        output debug information about paths\n",
            "\u001b[1;31m\n",
            "\u001b[1;31mAvailable subcommands:\n",
            "\u001b[1;31m\n",
            "\u001b[1;31mJupyter command `jupyter-notebook` not found. \n",
            "\u001b[1;31mView Jupyter <a href='command:jupyter.viewOutput'>log</a> for further details."
          ]
        }
      ],
      "source": [
        "# use enumerate to print the index # and name together\n",
        "for idx, name in enumerate(names):\n",
        "  print(f\"Index {idx}: {name}\")"
      ]
    },
    {
      "cell_type": "markdown",
      "metadata": {
        "id": "IvQpN-cWDwzf"
      },
      "source": [
        "2) Update the quantities_sold array to include the sale of 2 pies, 3 trays of fudge, 16 cupcakes, and 5 loaves of banana bread. You also realize that one of the cookies you thought was sold had actually fallen on the ground, so edit the quantities_sold_array from 40 to 39.\n"
      ]
    },
    {
      "cell_type": "code",
      "execution_count": null,
      "metadata": {
        "colab": {
          "base_uri": "https://localhost:8080/"
        },
        "id": "p3AziGN1Bi_4",
        "outputId": "e6bb01f6-e97b-4150-deb7-4e3533d87fe0"
      },
      "outputs": [
        {
          "ename": "",
          "evalue": "",
          "output_type": "error",
          "traceback": [
            "\u001b[1;31mFailed to start the Kernel. \n",
            "\u001b[1;31mJupyter server crashed. Unable to connect. \n",
            "\u001b[1;31mError code from Jupyter: 1\n",
            "\u001b[1;31musage: jupyter.py [-h] [--version] [--config-dir] [--data-dir] [--runtime-dir]\n",
            "\u001b[1;31m                  [--paths] [--json] [--debug]\n",
            "\u001b[1;31m                  [subcommand]\n",
            "\u001b[1;31m\n",
            "\u001b[1;31mJupyter: Interactive Computing\n",
            "\u001b[1;31m\n",
            "\u001b[1;31mpositional arguments:\n",
            "\u001b[1;31m  subcommand     the subcommand to launch\n",
            "\u001b[1;31m\n",
            "\u001b[1;31moptions:\n",
            "\u001b[1;31m  -h, --help     show this help message and exit\n",
            "\u001b[1;31m  --version      show the versions of core jupyter packages and exit\n",
            "\u001b[1;31m  --config-dir   show Jupyter config dir\n",
            "\u001b[1;31m  --data-dir     show Jupyter data dir\n",
            "\u001b[1;31m  --runtime-dir  show Jupyter runtime dir\n",
            "\u001b[1;31m  --paths        show all Jupyter paths. Add --json for machine-readable\n",
            "\u001b[1;31m                 format.\n",
            "\u001b[1;31m  --json         output paths as machine-readable json\n",
            "\u001b[1;31m  --debug        output debug information about paths\n",
            "\u001b[1;31m\n",
            "\u001b[1;31mAvailable subcommands:\n",
            "\u001b[1;31m\n",
            "\u001b[1;31mJupyter command `jupyter-notebook` not found. \n",
            "\u001b[1;31mView Jupyter <a href='command:jupyter.viewOutput'>log</a> for further details."
          ]
        }
      ],
      "source": [
        "qty_sold = np.array([2,3,16,5])\n",
        "new_name = np.array([\"pies\",\"trays of fudge\",\"cupcakes\",\"loaves of banana bread\"])\n",
        "\n",
        "quantities_sold = np.append(quantities_sold, qty_sold)\n",
        "quantities_sold"
      ]
    },
    {
      "cell_type": "code",
      "execution_count": null,
      "metadata": {
        "colab": {
          "base_uri": "https://localhost:8080/"
        },
        "id": "Vf-XqvuSEPMw",
        "outputId": "fb2eb64f-7284-4c2f-be29-dec53d4213bb"
      },
      "outputs": [
        {
          "ename": "",
          "evalue": "",
          "output_type": "error",
          "traceback": [
            "\u001b[1;31mFailed to start the Kernel. \n",
            "\u001b[1;31mJupyter server crashed. Unable to connect. \n",
            "\u001b[1;31mError code from Jupyter: 1\n",
            "\u001b[1;31musage: jupyter.py [-h] [--version] [--config-dir] [--data-dir] [--runtime-dir]\n",
            "\u001b[1;31m                  [--paths] [--json] [--debug]\n",
            "\u001b[1;31m                  [subcommand]\n",
            "\u001b[1;31m\n",
            "\u001b[1;31mJupyter: Interactive Computing\n",
            "\u001b[1;31m\n",
            "\u001b[1;31mpositional arguments:\n",
            "\u001b[1;31m  subcommand     the subcommand to launch\n",
            "\u001b[1;31m\n",
            "\u001b[1;31moptions:\n",
            "\u001b[1;31m  -h, --help     show this help message and exit\n",
            "\u001b[1;31m  --version      show the versions of core jupyter packages and exit\n",
            "\u001b[1;31m  --config-dir   show Jupyter config dir\n",
            "\u001b[1;31m  --data-dir     show Jupyter data dir\n",
            "\u001b[1;31m  --runtime-dir  show Jupyter runtime dir\n",
            "\u001b[1;31m  --paths        show all Jupyter paths. Add --json for machine-readable\n",
            "\u001b[1;31m                 format.\n",
            "\u001b[1;31m  --json         output paths as machine-readable json\n",
            "\u001b[1;31m  --debug        output debug information about paths\n",
            "\u001b[1;31m\n",
            "\u001b[1;31mAvailable subcommands:\n",
            "\u001b[1;31m\n",
            "\u001b[1;31mJupyter command `jupyter-notebook` not found. \n",
            "\u001b[1;31mView Jupyter <a href='command:jupyter.viewOutput'>log</a> for further details."
          ]
        }
      ],
      "source": [
        "quantities_sold = quantities_sold[1] -1\n",
        "quantities_sold"
      ]
    },
    {
      "cell_type": "markdown",
      "metadata": {
        "id": "Gr-iWIApEPlj"
      },
      "source": [
        "\n",
        "3) Determine the amount of money collected from the sale of each item at the bake sale."
      ]
    },
    {
      "cell_type": "code",
      "execution_count": null,
      "metadata": {
        "id": "6ZyU1q-KEP_-"
      },
      "outputs": [
        {
          "ename": "",
          "evalue": "",
          "output_type": "error",
          "traceback": [
            "\u001b[1;31mFailed to start the Kernel. \n",
            "\u001b[1;31mJupyter server crashed. Unable to connect. \n",
            "\u001b[1;31mError code from Jupyter: 1\n",
            "\u001b[1;31musage: jupyter.py [-h] [--version] [--config-dir] [--data-dir] [--runtime-dir]\n",
            "\u001b[1;31m                  [--paths] [--json] [--debug]\n",
            "\u001b[1;31m                  [subcommand]\n",
            "\u001b[1;31m\n",
            "\u001b[1;31mJupyter: Interactive Computing\n",
            "\u001b[1;31m\n",
            "\u001b[1;31mpositional arguments:\n",
            "\u001b[1;31m  subcommand     the subcommand to launch\n",
            "\u001b[1;31m\n",
            "\u001b[1;31moptions:\n",
            "\u001b[1;31m  -h, --help     show this help message and exit\n",
            "\u001b[1;31m  --version      show the versions of core jupyter packages and exit\n",
            "\u001b[1;31m  --config-dir   show Jupyter config dir\n",
            "\u001b[1;31m  --data-dir     show Jupyter data dir\n",
            "\u001b[1;31m  --runtime-dir  show Jupyter runtime dir\n",
            "\u001b[1;31m  --paths        show all Jupyter paths. Add --json for machine-readable\n",
            "\u001b[1;31m                 format.\n",
            "\u001b[1;31m  --json         output paths as machine-readable json\n",
            "\u001b[1;31m  --debug        output debug information about paths\n",
            "\u001b[1;31m\n",
            "\u001b[1;31mAvailable subcommands:\n",
            "\u001b[1;31m\n",
            "\u001b[1;31mJupyter command `jupyter-notebook` not found. \n",
            "\u001b[1;31mView Jupyter <a href='command:jupyter.viewOutput'>log</a> for further details."
          ]
        }
      ],
      "source": []
    },
    {
      "cell_type": "code",
      "execution_count": null,
      "metadata": {
        "id": "GQxgbnd1ERer"
      },
      "outputs": [
        {
          "ename": "",
          "evalue": "",
          "output_type": "error",
          "traceback": [
            "\u001b[1;31mFailed to start the Kernel. \n",
            "\u001b[1;31mJupyter server crashed. Unable to connect. \n",
            "\u001b[1;31mError code from Jupyter: 1\n",
            "\u001b[1;31musage: jupyter.py [-h] [--version] [--config-dir] [--data-dir] [--runtime-dir]\n",
            "\u001b[1;31m                  [--paths] [--json] [--debug]\n",
            "\u001b[1;31m                  [subcommand]\n",
            "\u001b[1;31m\n",
            "\u001b[1;31mJupyter: Interactive Computing\n",
            "\u001b[1;31m\n",
            "\u001b[1;31mpositional arguments:\n",
            "\u001b[1;31m  subcommand     the subcommand to launch\n",
            "\u001b[1;31m\n",
            "\u001b[1;31moptions:\n",
            "\u001b[1;31m  -h, --help     show this help message and exit\n",
            "\u001b[1;31m  --version      show the versions of core jupyter packages and exit\n",
            "\u001b[1;31m  --config-dir   show Jupyter config dir\n",
            "\u001b[1;31m  --data-dir     show Jupyter data dir\n",
            "\u001b[1;31m  --runtime-dir  show Jupyter runtime dir\n",
            "\u001b[1;31m  --paths        show all Jupyter paths. Add --json for machine-readable\n",
            "\u001b[1;31m                 format.\n",
            "\u001b[1;31m  --json         output paths as machine-readable json\n",
            "\u001b[1;31m  --debug        output debug information about paths\n",
            "\u001b[1;31m\n",
            "\u001b[1;31mAvailable subcommands:\n",
            "\u001b[1;31m\n",
            "\u001b[1;31mJupyter command `jupyter-notebook` not found. \n",
            "\u001b[1;31mView Jupyter <a href='command:jupyter.viewOutput'>log</a> for further details."
          ]
        }
      ],
      "source": []
    },
    {
      "cell_type": "markdown",
      "metadata": {
        "id": "rlqaEimGER37"
      },
      "source": [
        "4) Create a NumPy array \"quantity_leftover\" that includes the quantity of each item remaining at the end of the sale: 2 cakes, 1 pie, 6 trays of fudge, 2 loaves of banana bread. Hint: Make sure to include \"0\" for any item that was sold out. Why is this important when creating the array?"
      ]
    },
    {
      "cell_type": "code",
      "execution_count": null,
      "metadata": {
        "id": "Q1ef1PnBETpu"
      },
      "outputs": [
        {
          "ename": "",
          "evalue": "",
          "output_type": "error",
          "traceback": [
            "\u001b[1;31mFailed to start the Kernel. \n",
            "\u001b[1;31mJupyter server crashed. Unable to connect. \n",
            "\u001b[1;31mError code from Jupyter: 1\n",
            "\u001b[1;31musage: jupyter.py [-h] [--version] [--config-dir] [--data-dir] [--runtime-dir]\n",
            "\u001b[1;31m                  [--paths] [--json] [--debug]\n",
            "\u001b[1;31m                  [subcommand]\n",
            "\u001b[1;31m\n",
            "\u001b[1;31mJupyter: Interactive Computing\n",
            "\u001b[1;31m\n",
            "\u001b[1;31mpositional arguments:\n",
            "\u001b[1;31m  subcommand     the subcommand to launch\n",
            "\u001b[1;31m\n",
            "\u001b[1;31moptions:\n",
            "\u001b[1;31m  -h, --help     show this help message and exit\n",
            "\u001b[1;31m  --version      show the versions of core jupyter packages and exit\n",
            "\u001b[1;31m  --config-dir   show Jupyter config dir\n",
            "\u001b[1;31m  --data-dir     show Jupyter data dir\n",
            "\u001b[1;31m  --runtime-dir  show Jupyter runtime dir\n",
            "\u001b[1;31m  --paths        show all Jupyter paths. Add --json for machine-readable\n",
            "\u001b[1;31m                 format.\n",
            "\u001b[1;31m  --json         output paths as machine-readable json\n",
            "\u001b[1;31m  --debug        output debug information about paths\n",
            "\u001b[1;31m\n",
            "\u001b[1;31mAvailable subcommands:\n",
            "\u001b[1;31m\n",
            "\u001b[1;31mJupyter command `jupyter-notebook` not found. \n",
            "\u001b[1;31mView Jupyter <a href='command:jupyter.viewOutput'>log</a> for further details."
          ]
        }
      ],
      "source": []
    },
    {
      "cell_type": "code",
      "execution_count": null,
      "metadata": {
        "id": "aAM9JN9lETQj"
      },
      "outputs": [
        {
          "ename": "",
          "evalue": "",
          "output_type": "error",
          "traceback": [
            "\u001b[1;31mFailed to start the Kernel. \n",
            "\u001b[1;31mJupyter server crashed. Unable to connect. \n",
            "\u001b[1;31mError code from Jupyter: 1\n",
            "\u001b[1;31musage: jupyter.py [-h] [--version] [--config-dir] [--data-dir] [--runtime-dir]\n",
            "\u001b[1;31m                  [--paths] [--json] [--debug]\n",
            "\u001b[1;31m                  [subcommand]\n",
            "\u001b[1;31m\n",
            "\u001b[1;31mJupyter: Interactive Computing\n",
            "\u001b[1;31m\n",
            "\u001b[1;31mpositional arguments:\n",
            "\u001b[1;31m  subcommand     the subcommand to launch\n",
            "\u001b[1;31m\n",
            "\u001b[1;31moptions:\n",
            "\u001b[1;31m  -h, --help     show this help message and exit\n",
            "\u001b[1;31m  --version      show the versions of core jupyter packages and exit\n",
            "\u001b[1;31m  --config-dir   show Jupyter config dir\n",
            "\u001b[1;31m  --data-dir     show Jupyter data dir\n",
            "\u001b[1;31m  --runtime-dir  show Jupyter runtime dir\n",
            "\u001b[1;31m  --paths        show all Jupyter paths. Add --json for machine-readable\n",
            "\u001b[1;31m                 format.\n",
            "\u001b[1;31m  --json         output paths as machine-readable json\n",
            "\u001b[1;31m  --debug        output debug information about paths\n",
            "\u001b[1;31m\n",
            "\u001b[1;31mAvailable subcommands:\n",
            "\u001b[1;31m\n",
            "\u001b[1;31mJupyter command `jupyter-notebook` not found. \n",
            "\u001b[1;31mView Jupyter <a href='command:jupyter.viewOutput'>log</a> for further details."
          ]
        }
      ],
      "source": []
    },
    {
      "cell_type": "markdown",
      "metadata": {
        "id": "3cWlEbs6EVii"
      },
      "source": [
        "5) The club decides to sell the leftover items at half price and everything quickly sells out! Determine how much money was collected from the clearance sale."
      ]
    },
    {
      "cell_type": "code",
      "execution_count": null,
      "metadata": {
        "id": "HUs0GgLREWZV"
      },
      "outputs": [
        {
          "ename": "",
          "evalue": "",
          "output_type": "error",
          "traceback": [
            "\u001b[1;31mFailed to start the Kernel. \n",
            "\u001b[1;31mJupyter server crashed. Unable to connect. \n",
            "\u001b[1;31mError code from Jupyter: 1\n",
            "\u001b[1;31musage: jupyter.py [-h] [--version] [--config-dir] [--data-dir] [--runtime-dir]\n",
            "\u001b[1;31m                  [--paths] [--json] [--debug]\n",
            "\u001b[1;31m                  [subcommand]\n",
            "\u001b[1;31m\n",
            "\u001b[1;31mJupyter: Interactive Computing\n",
            "\u001b[1;31m\n",
            "\u001b[1;31mpositional arguments:\n",
            "\u001b[1;31m  subcommand     the subcommand to launch\n",
            "\u001b[1;31m\n",
            "\u001b[1;31moptions:\n",
            "\u001b[1;31m  -h, --help     show this help message and exit\n",
            "\u001b[1;31m  --version      show the versions of core jupyter packages and exit\n",
            "\u001b[1;31m  --config-dir   show Jupyter config dir\n",
            "\u001b[1;31m  --data-dir     show Jupyter data dir\n",
            "\u001b[1;31m  --runtime-dir  show Jupyter runtime dir\n",
            "\u001b[1;31m  --paths        show all Jupyter paths. Add --json for machine-readable\n",
            "\u001b[1;31m                 format.\n",
            "\u001b[1;31m  --json         output paths as machine-readable json\n",
            "\u001b[1;31m  --debug        output debug information about paths\n",
            "\u001b[1;31m\n",
            "\u001b[1;31mAvailable subcommands:\n",
            "\u001b[1;31m\n",
            "\u001b[1;31mJupyter command `jupyter-notebook` not found. \n",
            "\u001b[1;31mView Jupyter <a href='command:jupyter.viewOutput'>log</a> for further details."
          ]
        }
      ],
      "source": []
    },
    {
      "cell_type": "code",
      "execution_count": null,
      "metadata": {
        "id": "hTGMHSIoEWv8"
      },
      "outputs": [
        {
          "ename": "",
          "evalue": "",
          "output_type": "error",
          "traceback": [
            "\u001b[1;31mFailed to start the Kernel. \n",
            "\u001b[1;31mJupyter server crashed. Unable to connect. \n",
            "\u001b[1;31mError code from Jupyter: 1\n",
            "\u001b[1;31musage: jupyter.py [-h] [--version] [--config-dir] [--data-dir] [--runtime-dir]\n",
            "\u001b[1;31m                  [--paths] [--json] [--debug]\n",
            "\u001b[1;31m                  [subcommand]\n",
            "\u001b[1;31m\n",
            "\u001b[1;31mJupyter: Interactive Computing\n",
            "\u001b[1;31m\n",
            "\u001b[1;31mpositional arguments:\n",
            "\u001b[1;31m  subcommand     the subcommand to launch\n",
            "\u001b[1;31m\n",
            "\u001b[1;31moptions:\n",
            "\u001b[1;31m  -h, --help     show this help message and exit\n",
            "\u001b[1;31m  --version      show the versions of core jupyter packages and exit\n",
            "\u001b[1;31m  --config-dir   show Jupyter config dir\n",
            "\u001b[1;31m  --data-dir     show Jupyter data dir\n",
            "\u001b[1;31m  --runtime-dir  show Jupyter runtime dir\n",
            "\u001b[1;31m  --paths        show all Jupyter paths. Add --json for machine-readable\n",
            "\u001b[1;31m                 format.\n",
            "\u001b[1;31m  --json         output paths as machine-readable json\n",
            "\u001b[1;31m  --debug        output debug information about paths\n",
            "\u001b[1;31m\n",
            "\u001b[1;31mAvailable subcommands:\n",
            "\u001b[1;31m\n",
            "\u001b[1;31mJupyter command `jupyter-notebook` not found. \n",
            "\u001b[1;31mView Jupyter <a href='command:jupyter.viewOutput'>log</a> for further details."
          ]
        }
      ],
      "source": []
    },
    {
      "cell_type": "markdown",
      "metadata": {
        "id": "46ELx-5PEXdN"
      },
      "source": [
        "6) How much total money was collected from the bake sale (including the sale of full price and clearance items)?\n",
        "Hint: Your final answer should be $213.50, but you must make sure you get this answer with your NumPy coding skills!!"
      ]
    },
    {
      "cell_type": "code",
      "execution_count": null,
      "metadata": {
        "id": "Kw31OOWJEZVe"
      },
      "outputs": [
        {
          "ename": "",
          "evalue": "",
          "output_type": "error",
          "traceback": [
            "\u001b[1;31mFailed to start the Kernel. \n",
            "\u001b[1;31mJupyter server crashed. Unable to connect. \n",
            "\u001b[1;31mError code from Jupyter: 1\n",
            "\u001b[1;31musage: jupyter.py [-h] [--version] [--config-dir] [--data-dir] [--runtime-dir]\n",
            "\u001b[1;31m                  [--paths] [--json] [--debug]\n",
            "\u001b[1;31m                  [subcommand]\n",
            "\u001b[1;31m\n",
            "\u001b[1;31mJupyter: Interactive Computing\n",
            "\u001b[1;31m\n",
            "\u001b[1;31mpositional arguments:\n",
            "\u001b[1;31m  subcommand     the subcommand to launch\n",
            "\u001b[1;31m\n",
            "\u001b[1;31moptions:\n",
            "\u001b[1;31m  -h, --help     show this help message and exit\n",
            "\u001b[1;31m  --version      show the versions of core jupyter packages and exit\n",
            "\u001b[1;31m  --config-dir   show Jupyter config dir\n",
            "\u001b[1;31m  --data-dir     show Jupyter data dir\n",
            "\u001b[1;31m  --runtime-dir  show Jupyter runtime dir\n",
            "\u001b[1;31m  --paths        show all Jupyter paths. Add --json for machine-readable\n",
            "\u001b[1;31m                 format.\n",
            "\u001b[1;31m  --json         output paths as machine-readable json\n",
            "\u001b[1;31m  --debug        output debug information about paths\n",
            "\u001b[1;31m\n",
            "\u001b[1;31mAvailable subcommands:\n",
            "\u001b[1;31m\n",
            "\u001b[1;31mJupyter command `jupyter-notebook` not found. \n",
            "\u001b[1;31mView Jupyter <a href='command:jupyter.viewOutput'>log</a> for further details."
          ]
        }
      ],
      "source": []
    },
    {
      "cell_type": "code",
      "execution_count": null,
      "metadata": {
        "id": "rN4RSFlPEaQ4"
      },
      "outputs": [
        {
          "ename": "",
          "evalue": "",
          "output_type": "error",
          "traceback": [
            "\u001b[1;31mFailed to start the Kernel. \n",
            "\u001b[1;31mJupyter server crashed. Unable to connect. \n",
            "\u001b[1;31mError code from Jupyter: 1\n",
            "\u001b[1;31musage: jupyter.py [-h] [--version] [--config-dir] [--data-dir] [--runtime-dir]\n",
            "\u001b[1;31m                  [--paths] [--json] [--debug]\n",
            "\u001b[1;31m                  [subcommand]\n",
            "\u001b[1;31m\n",
            "\u001b[1;31mJupyter: Interactive Computing\n",
            "\u001b[1;31m\n",
            "\u001b[1;31mpositional arguments:\n",
            "\u001b[1;31m  subcommand     the subcommand to launch\n",
            "\u001b[1;31m\n",
            "\u001b[1;31moptions:\n",
            "\u001b[1;31m  -h, --help     show this help message and exit\n",
            "\u001b[1;31m  --version      show the versions of core jupyter packages and exit\n",
            "\u001b[1;31m  --config-dir   show Jupyter config dir\n",
            "\u001b[1;31m  --data-dir     show Jupyter data dir\n",
            "\u001b[1;31m  --runtime-dir  show Jupyter runtime dir\n",
            "\u001b[1;31m  --paths        show all Jupyter paths. Add --json for machine-readable\n",
            "\u001b[1;31m                 format.\n",
            "\u001b[1;31m  --json         output paths as machine-readable json\n",
            "\u001b[1;31m  --debug        output debug information about paths\n",
            "\u001b[1;31m\n",
            "\u001b[1;31mAvailable subcommands:\n",
            "\u001b[1;31m\n",
            "\u001b[1;31mJupyter command `jupyter-notebook` not found. \n",
            "\u001b[1;31mView Jupyter <a href='command:jupyter.viewOutput'>log</a> for further details."
          ]
        }
      ],
      "source": []
    },
    {
      "cell_type": "markdown",
      "metadata": {
        "id": "7skndT8zGJRv"
      },
      "source": [
        "Turn in this .ipynb file with your code and your solutions.\n"
      ]
    }
  ],
  "metadata": {
    "colab": {
      "provenance": []
    },
    "kernelspec": {
      "display_name": "base",
      "language": "python",
      "name": "python3"
    },
    "language_info": {
      "codemirror_mode": {
        "name": "ipython",
        "version": 3
      },
      "file_extension": ".py",
      "mimetype": "text/x-python",
      "name": "python",
      "nbconvert_exporter": "python",
      "pygments_lexer": "ipython3",
      "version": "3.9.13"
    },
    "toc": {
      "base_numbering": 1,
      "nav_menu": {},
      "number_sections": false,
      "sideBar": true,
      "skip_h1_title": false,
      "title_cell": "Table of Contents",
      "title_sidebar": "Contents",
      "toc_cell": false,
      "toc_position": {},
      "toc_section_display": true,
      "toc_window_display": false
    },
    "vscode": {
      "interpreter": {
        "hash": "9021d25849047308520974954b4e746887de4a5e3f215a00efaf48a1ba2ab5e1"
      }
    }
  },
  "nbformat": 4,
  "nbformat_minor": 0
}
