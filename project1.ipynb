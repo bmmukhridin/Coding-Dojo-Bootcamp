{
  "nbformat": 4,
  "nbformat_minor": 0,
  "metadata": {
    "colab": {
      "provenance": [],
      "authorship_tag": "ABX9TyNL6mUIjXi1tRzo7raU5iPg",
      "include_colab_link": true
    },
    "kernelspec": {
      "name": "python3",
      "display_name": "Python 3"
    },
    "language_info": {
      "name": "python"
    }
  },
  "cells": [
    {
      "cell_type": "markdown",
      "metadata": {
        "id": "view-in-github",
        "colab_type": "text"
      },
      "source": [
        "<a href=\"https://colab.research.google.com/github/bmmukhridin/Coding-Dojo-Bootcamp/blob/main/project1.ipynb\" target=\"_parent\"><img src=\"https://colab.research.google.com/assets/colab-badge.svg\" alt=\"Open In Colab\"/></a>"
      ]
    },
    {
      "cell_type": "markdown",
      "source": [
        "# Project 1 - Part 1\n",
        "\n",
        "##### Mukhriddin Bakhramov\n",
        "\n"
      ],
      "metadata": {
        "id": "WO5vQFmrlNkv"
      }
    },
    {
      "cell_type": "code",
      "execution_count": 2,
      "metadata": {
        "id": "aQN3qN9ukXOP"
      },
      "outputs": [],
      "source": []
    },
    {
      "cell_type": "markdown",
      "source": [
        "## Loading Data\""
      ],
      "metadata": {
        "id": "q5_XGfa0lzqa"
      }
    },
    {
      "cell_type": "code",
      "source": [],
      "metadata": {
        "id": "RRj8jbIEl5Oj"
      },
      "execution_count": null,
      "outputs": []
    },
    {
      "cell_type": "markdown",
      "source": [
        "## Data Cleaning"
      ],
      "metadata": {
        "id": "5112d7rumDGH"
      }
    },
    {
      "cell_type": "code",
      "source": [],
      "metadata": {
        "id": "WaoOIbKImEU4"
      },
      "execution_count": null,
      "outputs": []
    },
    {
      "cell_type": "markdown",
      "source": [
        "## Exploratory Visuals"
      ],
      "metadata": {
        "id": "pzx8wAF3mInY"
      }
    },
    {
      "cell_type": "code",
      "source": [],
      "metadata": {
        "id": "OuatZlLjlAmr"
      },
      "execution_count": null,
      "outputs": []
    },
    {
      "cell_type": "markdown",
      "source": [
        "## Explanatory Visuals"
      ],
      "metadata": {
        "id": "-fqmJIA2mPyl"
      }
    },
    {
      "cell_type": "code",
      "source": [],
      "metadata": {
        "id": "M3ZJKuNCmOQD"
      },
      "execution_count": null,
      "outputs": []
    }
  ]
}