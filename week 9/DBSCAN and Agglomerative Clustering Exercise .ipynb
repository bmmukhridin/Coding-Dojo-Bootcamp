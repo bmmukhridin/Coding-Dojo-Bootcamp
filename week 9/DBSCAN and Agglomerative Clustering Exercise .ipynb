{
 "cells": [
  {
   "attachments": {},
   "cell_type": "markdown",
   "metadata": {},
   "source": [
    "### Assignment:\n",
    "\n",
    "In this assignment, you will make a toy dataset of two interlocking moons and then try to cluster it using DBSCAN and Agglomerative Clustering.\n",
    "\n",
    "### Steps:\n",
    "\n",
    "* Create moons with the sklearn.datasets.make_moons() function. \n",
    "    1. Use the code below:\n",
    "    2. Remember to scale the data.\n",
    "* Cluster the data with DBSCAN.\n",
    "    1. Set min_samples=30.\n",
    "    2. Use the NearestNeighbors class to determine a good value for 'eps'.\n",
    "    3. Create a DBSCAN model and fit it to the data.\n",
    "    4. Plot the resulting clusters.\n",
    "* Cluster the data using Agglomerative Clustering.\n",
    "    1. Create a dendrogram and find where the average length of the vertical lines is the longest.\n",
    "    2. Create and fit an Agglomerative Clustering model on the data.\n",
    "    3. Plot the resulting clusters.\n",
    "\n",
    "* To create the data, use the following code:\n",
    "\n",
    "from sklearn.datasets import make_moons\n",
    "\n",
    "moons = make_moons(n_samples = 1000, noise=.1, random_state=42)[0]\n",
    "\n",
    "plt.scatter(moons[:,0], moons[:,1])\n"
   ]
  },
  {
   "cell_type": "code",
   "execution_count": null,
   "metadata": {},
   "outputs": [],
   "source": []
  }
 ],
 "metadata": {
  "language_info": {
   "name": "python"
  },
  "orig_nbformat": 4
 },
 "nbformat": 4,
 "nbformat_minor": 2
}
